{
  "nbformat": 4,
  "nbformat_minor": 0,
  "metadata": {
    "colab": {
      "name": "Split_learning.ipynb",
      "version": "0.3.2",
      "provenance": [],
      "collapsed_sections": [],
      "toc_visible": true
    },
    "kernelspec": {
      "name": "python3",
      "display_name": "Python 3"
    },
    "accelerator": "GPU"
  },
  "cells": [
    {
      "cell_type": "markdown",
      "metadata": {
        "id": "fQXAmYqP5NJX",
        "colab_type": "text"
      },
      "source": [
        "## IMPORTS"
      ]
    },
    {
      "cell_type": "code",
      "metadata": {
        "id": "fuhcJy8W8WiM",
        "colab_type": "code",
        "outputId": "27c95b2f-1513-45a4-86ff-208c94e6f91e",
        "colab": {
          "base_uri": "https://localhost:8080/",
          "height": 1333
        }
      },
      "source": [
        "! pip install syft"
      ],
      "execution_count": 0,
      "outputs": [
        {
          "output_type": "stream",
          "text": [
            "Collecting syft\n",
            "\u001b[?25l  Downloading https://files.pythonhosted.org/packages/1d/f4/ed95c5f6664d37a70c345f41e1bdceadc5efb2f478e2c6cd4de34f3a709a/syft-0.1.18-py3-none-any.whl (186kB)\n",
            "\u001b[K     |████████████████████████████████| 194kB 2.8MB/s \n",
            "\u001b[?25hCollecting tf-encrypted>=0.5.4 (from syft)\n",
            "\u001b[?25l  Downloading https://files.pythonhosted.org/packages/c6/4f/b785dd7286a7ebaf25af213dff11100ca09d6ff82d6186ffe0ba72e593ad/tf_encrypted-0.5.5-py3-none-manylinux1_x86_64.whl (1.4MB)\n",
            "\u001b[K     |████████████████████████████████| 1.4MB 41.7MB/s \n",
            "\u001b[?25hRequirement already satisfied: torch>=1.1 in /usr/local/lib/python3.6/dist-packages (from syft) (1.1.0)\n",
            "Collecting websocket-client (from syft)\n",
            "\u001b[?25l  Downloading https://files.pythonhosted.org/packages/29/19/44753eab1fdb50770ac69605527e8859468f3c0fd7dc5a76dd9c4dbd7906/websocket_client-0.56.0-py2.py3-none-any.whl (200kB)\n",
            "\u001b[K     |████████████████████████████████| 204kB 41.8MB/s \n",
            "\u001b[?25hCollecting lz4 (from syft)\n",
            "\u001b[?25l  Downloading https://files.pythonhosted.org/packages/0a/c6/96bbb3525a63ebc53ea700cc7d37ab9045542d33b4d262d0f0408ad9bbf2/lz4-2.1.10-cp36-cp36m-manylinux1_x86_64.whl (385kB)\n",
            "\u001b[K     |████████████████████████████████| 389kB 41.8MB/s \n",
            "\u001b[?25hRequirement already satisfied: torchvision>=0.3.0 in /usr/local/lib/python3.6/dist-packages (from syft) (0.3.0)\n",
            "Collecting zstd (from syft)\n",
            "\u001b[?25l  Downloading https://files.pythonhosted.org/packages/8e/27/1ea8086d37424e83ab692015cc8dd7d5e37cf791e339633a40dc828dfb74/zstd-1.4.0.0.tar.gz (450kB)\n",
            "\u001b[K     |████████████████████████████████| 450kB 31.4MB/s \n",
            "\u001b[?25hRequirement already satisfied: msgpack in /usr/local/lib/python3.6/dist-packages (from syft) (0.5.6)\n",
            "Collecting flask-socketio (from syft)\n",
            "  Downloading https://files.pythonhosted.org/packages/4b/68/fe4806d3a0a5909d274367eb9b3b87262906c1515024f46c2443a36a0c82/Flask_SocketIO-4.1.0-py2.py3-none-any.whl\n",
            "Requirement already satisfied: sklearn in /usr/local/lib/python3.6/dist-packages (from syft) (0.0)\n",
            "Requirement already satisfied: Flask in /usr/local/lib/python3.6/dist-packages (from syft) (1.0.3)\n",
            "Collecting websockets>=7.0 (from syft)\n",
            "\u001b[?25l  Downloading https://files.pythonhosted.org/packages/43/71/8bfa882b9c502c36e5c9ef6732969533670d2b039cbf95a82ced8f762b80/websockets-7.0-cp36-cp36m-manylinux1_x86_64.whl (63kB)\n",
            "\u001b[K     |████████████████████████████████| 71kB 24.0MB/s \n",
            "\u001b[?25hRequirement already satisfied: tblib in /usr/local/lib/python3.6/dist-packages (from syft) (1.4.0)\n",
            "Collecting pyyaml>=5.1 (from tf-encrypted>=0.5.4->syft)\n",
            "\u001b[?25l  Downloading https://files.pythonhosted.org/packages/a3/65/837fefac7475963d1eccf4aa684c23b95aa6c1d033a2c5965ccb11e22623/PyYAML-5.1.1.tar.gz (274kB)\n",
            "\u001b[K     |████████████████████████████████| 276kB 41.4MB/s \n",
            "\u001b[?25hRequirement already satisfied: numpy>=1.14.0 in /usr/local/lib/python3.6/dist-packages (from tf-encrypted>=0.5.4->syft) (1.16.4)\n",
            "Requirement already satisfied: tensorflow<2,>=1.12.0 in /usr/local/lib/python3.6/dist-packages (from tf-encrypted>=0.5.4->syft) (1.14.0rc1)\n",
            "Requirement already satisfied: six in /usr/local/lib/python3.6/dist-packages (from websocket-client->syft) (1.12.0)\n",
            "Requirement already satisfied: pillow>=4.1.1 in /usr/local/lib/python3.6/dist-packages (from torchvision>=0.3.0->syft) (4.3.0)\n",
            "Collecting python-socketio>=2.1.0 (from flask-socketio->syft)\n",
            "\u001b[?25l  Downloading https://files.pythonhosted.org/packages/c8/e0/a875abbb0f9d70c6e2ec2019ca9e3893377cef5deca6225ead3497000152/python_socketio-4.1.0-py2.py3-none-any.whl (46kB)\n",
            "\u001b[K     |████████████████████████████████| 51kB 19.4MB/s \n",
            "\u001b[?25hRequirement already satisfied: scikit-learn in /usr/local/lib/python3.6/dist-packages (from sklearn->syft) (0.21.2)\n",
            "Requirement already satisfied: Jinja2>=2.10 in /usr/local/lib/python3.6/dist-packages (from Flask->syft) (2.10.1)\n",
            "Requirement already satisfied: itsdangerous>=0.24 in /usr/local/lib/python3.6/dist-packages (from Flask->syft) (1.1.0)\n",
            "Requirement already satisfied: Werkzeug>=0.14 in /usr/local/lib/python3.6/dist-packages (from Flask->syft) (0.15.4)\n",
            "Requirement already satisfied: click>=5.1 in /usr/local/lib/python3.6/dist-packages (from Flask->syft) (7.0)\n",
            "Requirement already satisfied: absl-py>=0.7.0 in /usr/local/lib/python3.6/dist-packages (from tensorflow<2,>=1.12.0->tf-encrypted>=0.5.4->syft) (0.7.1)\n",
            "Requirement already satisfied: wrapt>=1.11.1 in /usr/local/lib/python3.6/dist-packages (from tensorflow<2,>=1.12.0->tf-encrypted>=0.5.4->syft) (1.11.1)\n",
            "Requirement already satisfied: protobuf>=3.6.1 in /usr/local/lib/python3.6/dist-packages (from tensorflow<2,>=1.12.0->tf-encrypted>=0.5.4->syft) (3.7.1)\n",
            "Requirement already satisfied: gast>=0.2.0 in /usr/local/lib/python3.6/dist-packages (from tensorflow<2,>=1.12.0->tf-encrypted>=0.5.4->syft) (0.2.2)\n",
            "Requirement already satisfied: grpcio>=1.8.6 in /usr/local/lib/python3.6/dist-packages (from tensorflow<2,>=1.12.0->tf-encrypted>=0.5.4->syft) (1.15.0)\n",
            "Requirement already satisfied: tensorflow-estimator<1.15.0rc0,>=1.14.0rc0 in /usr/local/lib/python3.6/dist-packages (from tensorflow<2,>=1.12.0->tf-encrypted>=0.5.4->syft) (1.14.0rc1)\n",
            "Requirement already satisfied: google-pasta>=0.1.6 in /usr/local/lib/python3.6/dist-packages (from tensorflow<2,>=1.12.0->tf-encrypted>=0.5.4->syft) (0.1.7)\n",
            "Requirement already satisfied: astor>=0.6.0 in /usr/local/lib/python3.6/dist-packages (from tensorflow<2,>=1.12.0->tf-encrypted>=0.5.4->syft) (0.8.0)\n",
            "Requirement already satisfied: termcolor>=1.1.0 in /usr/local/lib/python3.6/dist-packages (from tensorflow<2,>=1.12.0->tf-encrypted>=0.5.4->syft) (1.1.0)\n",
            "Requirement already satisfied: wheel>=0.26 in /usr/local/lib/python3.6/dist-packages (from tensorflow<2,>=1.12.0->tf-encrypted>=0.5.4->syft) (0.33.4)\n",
            "Requirement already satisfied: tensorboard<1.14.0,>=1.13.0 in /usr/local/lib/python3.6/dist-packages (from tensorflow<2,>=1.12.0->tf-encrypted>=0.5.4->syft) (1.13.1)\n",
            "Requirement already satisfied: keras-applications>=1.0.6 in /usr/local/lib/python3.6/dist-packages (from tensorflow<2,>=1.12.0->tf-encrypted>=0.5.4->syft) (1.0.8)\n",
            "Requirement already satisfied: keras-preprocessing>=1.0.5 in /usr/local/lib/python3.6/dist-packages (from tensorflow<2,>=1.12.0->tf-encrypted>=0.5.4->syft) (1.1.0)\n",
            "Requirement already satisfied: olefile in /usr/local/lib/python3.6/dist-packages (from pillow>=4.1.1->torchvision>=0.3.0->syft) (0.46)\n",
            "Collecting python-engineio>=3.8.0 (from python-socketio>=2.1.0->flask-socketio->syft)\n",
            "\u001b[?25l  Downloading https://files.pythonhosted.org/packages/9c/d3/de0fa7ebebd054de308e6ac397bf9e11ea42924795a38005a21ea001b114/python_engineio-3.8.1-py2.py3-none-any.whl (119kB)\n",
            "\u001b[K     |████████████████████████████████| 122kB 39.6MB/s \n",
            "\u001b[?25hRequirement already satisfied: joblib>=0.11 in /usr/local/lib/python3.6/dist-packages (from scikit-learn->sklearn->syft) (0.13.2)\n",
            "Requirement already satisfied: scipy>=0.17.0 in /usr/local/lib/python3.6/dist-packages (from scikit-learn->sklearn->syft) (1.3.0)\n",
            "Requirement already satisfied: MarkupSafe>=0.23 in /usr/local/lib/python3.6/dist-packages (from Jinja2>=2.10->Flask->syft) (1.1.1)\n",
            "Requirement already satisfied: setuptools in /usr/local/lib/python3.6/dist-packages (from protobuf>=3.6.1->tensorflow<2,>=1.12.0->tf-encrypted>=0.5.4->syft) (41.0.1)\n",
            "Requirement already satisfied: markdown>=2.6.8 in /usr/local/lib/python3.6/dist-packages (from tensorboard<1.14.0,>=1.13.0->tensorflow<2,>=1.12.0->tf-encrypted>=0.5.4->syft) (3.1.1)\n",
            "Requirement already satisfied: h5py in /usr/local/lib/python3.6/dist-packages (from keras-applications>=1.0.6->tensorflow<2,>=1.12.0->tf-encrypted>=0.5.4->syft) (2.8.0)\n",
            "Building wheels for collected packages: zstd, pyyaml\n",
            "  Building wheel for zstd (setup.py) ... \u001b[?25l\u001b[?25hdone\n",
            "  Stored in directory: /root/.cache/pip/wheels/ad/9a/f4/3105b5209674ac77fcca7fede95184c62a95df0196888e0e76\n",
            "  Building wheel for pyyaml (setup.py) ... \u001b[?25l\u001b[?25hdone\n",
            "  Stored in directory: /root/.cache/pip/wheels/16/27/a1/775c62ddea7bfa62324fd1f65847ed31c55dadb6051481ba3f\n",
            "Successfully built zstd pyyaml\n",
            "Installing collected packages: pyyaml, tf-encrypted, websocket-client, lz4, zstd, python-engineio, python-socketio, flask-socketio, websockets, syft\n",
            "  Found existing installation: PyYAML 3.13\n",
            "    Uninstalling PyYAML-3.13:\n",
            "      Successfully uninstalled PyYAML-3.13\n",
            "Successfully installed flask-socketio-4.1.0 lz4-2.1.10 python-engineio-3.8.1 python-socketio-4.1.0 pyyaml-5.1.1 syft-0.1.18 tf-encrypted-0.5.5 websocket-client-0.56.0 websockets-7.0 zstd-1.4.0.0\n"
          ],
          "name": "stdout"
        }
      ]
    },
    {
      "cell_type": "code",
      "metadata": {
        "id": "ztqpDsSV3fC_",
        "colab_type": "code",
        "outputId": "a299c4de-8763-42fd-8729-05d155f20bb6",
        "colab": {
          "base_uri": "https://localhost:8080/",
          "height": 106
        }
      },
      "source": [
        "import torch\n",
        "from torch import nn\n",
        "from torch import optim\n",
        "import syft as sy\n",
        "hook = sy.TorchHook(torch)"
      ],
      "execution_count": 0,
      "outputs": [
        {
          "output_type": "stream",
          "text": [
            "WARNING: Logging before flag parsing goes to stderr.\n",
            "W0619 14:43:55.638832 140391203641216 secure_random.py:22] Falling back to insecure randomness since the required custom op could not be found for the installed version of TensorFlow (1.14.0-rc1). Fix this by compiling custom ops.\n",
            "W0619 14:43:55.747333 140391203641216 deprecation_wrapper.py:119] From /usr/local/lib/python3.6/dist-packages/tf_encrypted/session.py:28: The name tf.Session is deprecated. Please use tf.compat.v1.Session instead.\n",
            "\n"
          ],
          "name": "stderr"
        }
      ]
    },
    {
      "cell_type": "markdown",
      "metadata": {
        "id": "_WENweJg5Wj-",
        "colab_type": "text"
      },
      "source": [
        "## FEDERATED LEARNING"
      ]
    },
    {
      "cell_type": "code",
      "metadata": {
        "id": "8pGCDMbb8ch9",
        "colab_type": "code",
        "colab": {}
      },
      "source": [
        "bob = sy.VirtualWorker(hook, id=\"bob\")\n",
        "alice = sy.VirtualWorker(hook, id=\"alice\")"
      ],
      "execution_count": 0,
      "outputs": []
    },
    {
      "cell_type": "code",
      "metadata": {
        "id": "5kNGlPlP87h7",
        "colab_type": "code",
        "colab": {}
      },
      "source": [
        "x = torch.tensor([1,2,3,4])\n",
        "y = torch.tensor([1,1,1,1])"
      ],
      "execution_count": 0,
      "outputs": []
    },
    {
      "cell_type": "code",
      "metadata": {
        "id": "GKwwQyiB9SwN",
        "colab_type": "code",
        "colab": {}
      },
      "source": [
        "x_ptr = x.send(bob)"
      ],
      "execution_count": 0,
      "outputs": []
    },
    {
      "cell_type": "code",
      "metadata": {
        "id": "6NZr3-1CWJVI",
        "colab_type": "code",
        "outputId": "23c642ca-8908-4201-befa-7bfcbb49f8cb",
        "colab": {
          "base_uri": "https://localhost:8080/",
          "height": 503
        }
      },
      "source": [
        "y-x_ptr"
      ],
      "execution_count": 0,
      "outputs": [
        {
          "output_type": "error",
          "ename": "TensorsNotCollocatedException",
          "evalue": "ignored",
          "traceback": [
            "\u001b[0;31m---------------------------------------------------------------------------\u001b[0m",
            "\u001b[0;31mRuntimeError\u001b[0m                              Traceback (most recent call last)",
            "\u001b[0;32m/usr/local/lib/python3.6/dist-packages/syft/frameworks/torch/hook/hook.py\u001b[0m in \u001b[0;36moverloaded_native_method\u001b[0;34m(self, *args, **kwargs)\u001b[0m\n\u001b[1;32m    647\u001b[0m                     \u001b[0;32mif\u001b[0m \u001b[0misinstance\u001b[0m\u001b[0;34m(\u001b[0m\u001b[0margs\u001b[0m\u001b[0;34m,\u001b[0m \u001b[0mtuple\u001b[0m\u001b[0;34m)\u001b[0m\u001b[0;34m:\u001b[0m\u001b[0;34m\u001b[0m\u001b[0;34m\u001b[0m\u001b[0m\n\u001b[0;32m--> 648\u001b[0;31m                         \u001b[0mresponse\u001b[0m \u001b[0;34m=\u001b[0m \u001b[0mmethod\u001b[0m\u001b[0;34m(\u001b[0m\u001b[0;34m*\u001b[0m\u001b[0margs\u001b[0m\u001b[0;34m,\u001b[0m \u001b[0;34m**\u001b[0m\u001b[0mkwargs\u001b[0m\u001b[0;34m)\u001b[0m\u001b[0;34m\u001b[0m\u001b[0;34m\u001b[0m\u001b[0m\n\u001b[0m\u001b[1;32m    649\u001b[0m                     \u001b[0;32melse\u001b[0m\u001b[0;34m:\u001b[0m\u001b[0;34m\u001b[0m\u001b[0;34m\u001b[0m\u001b[0m\n",
            "\u001b[0;31mRuntimeError\u001b[0m: The size of tensor a (4) must match the size of tensor b (0) at non-singleton dimension 0",
            "\nDuring handling of the above exception, another exception occurred:\n",
            "\u001b[0;31mTensorsNotCollocatedException\u001b[0m             Traceback (most recent call last)",
            "\u001b[0;32m<ipython-input-6-3249443fffb5>\u001b[0m in \u001b[0;36m<module>\u001b[0;34m()\u001b[0m\n\u001b[0;32m----> 1\u001b[0;31m \u001b[0my\u001b[0m\u001b[0;34m-\u001b[0m\u001b[0mx_ptr\u001b[0m\u001b[0;34m\u001b[0m\u001b[0;34m\u001b[0m\u001b[0m\n\u001b[0m",
            "\u001b[0;32m/usr/local/lib/python3.6/dist-packages/syft/frameworks/torch/hook/hook.py\u001b[0m in \u001b[0;36moverloaded_native_method\u001b[0;34m(self, *args, **kwargs)\u001b[0m\n\u001b[1;32m    652\u001b[0m                 \u001b[0;32mexcept\u001b[0m \u001b[0mBaseException\u001b[0m \u001b[0;32mas\u001b[0m \u001b[0me\u001b[0m\u001b[0;34m:\u001b[0m\u001b[0;34m\u001b[0m\u001b[0;34m\u001b[0m\u001b[0m\n\u001b[1;32m    653\u001b[0m                     \u001b[0;31m# we can make some errors more descriptive with this method\u001b[0m\u001b[0;34m\u001b[0m\u001b[0;34m\u001b[0m\u001b[0;34m\u001b[0m\u001b[0m\n\u001b[0;32m--> 654\u001b[0;31m                     \u001b[0;32mraise\u001b[0m \u001b[0mroute_method_exception\u001b[0m\u001b[0;34m(\u001b[0m\u001b[0me\u001b[0m\u001b[0;34m,\u001b[0m \u001b[0mself\u001b[0m\u001b[0;34m,\u001b[0m \u001b[0margs\u001b[0m\u001b[0;34m,\u001b[0m \u001b[0mkwargs\u001b[0m\u001b[0;34m)\u001b[0m\u001b[0;34m\u001b[0m\u001b[0;34m\u001b[0m\u001b[0m\n\u001b[0m\u001b[1;32m    655\u001b[0m \u001b[0;34m\u001b[0m\u001b[0m\n\u001b[1;32m    656\u001b[0m             \u001b[0;32melse\u001b[0m\u001b[0;34m:\u001b[0m  \u001b[0;31m# means that there is a wrapper to remove\u001b[0m\u001b[0;34m\u001b[0m\u001b[0;34m\u001b[0m\u001b[0m\n",
            "\u001b[0;31mTensorsNotCollocatedException\u001b[0m: You tried to call a method involving two tensors where one tensor is actually locatedon another machine (is a PointerTensor). Call .get() on the PointerTensor or .send(bob) on the other tensor.\n\nTensor A: tensor([1, 1, 1, 1])\nTensor B: [PointerTensor | me:61764429987 -> bob:71651020431]"
          ]
        }
      ]
    },
    {
      "cell_type": "code",
      "metadata": {
        "id": "J694UMcs9Vcq",
        "colab_type": "code",
        "colab": {}
      },
      "source": [
        "y_ptr = y.send(alice)"
      ],
      "execution_count": 0,
      "outputs": []
    },
    {
      "cell_type": "code",
      "metadata": {
        "id": "rgxXDqgk9XJF",
        "colab_type": "code",
        "outputId": "08a14203-97f8-4329-bd21-04115eeafccb",
        "colab": {
          "base_uri": "https://localhost:8080/",
          "height": 35
        }
      },
      "source": [
        "alice._objects"
      ],
      "execution_count": 0,
      "outputs": [
        {
          "output_type": "execute_result",
          "data": {
            "text/plain": [
              "{474167764: tensor([1, 1, 1, 1])}"
            ]
          },
          "metadata": {
            "tags": []
          },
          "execution_count": 8
        }
      ]
    },
    {
      "cell_type": "code",
      "metadata": {
        "id": "oryjrZit9ZEx",
        "colab_type": "code",
        "colab": {}
      },
      "source": [
        "y = y_ptr.get()"
      ],
      "execution_count": 0,
      "outputs": []
    },
    {
      "cell_type": "code",
      "metadata": {
        "id": "baktyEW69dJL",
        "colab_type": "code",
        "outputId": "1c1708ea-361e-41a3-a546-7a403ddb8aa4",
        "colab": {
          "base_uri": "https://localhost:8080/",
          "height": 35
        }
      },
      "source": [
        "y"
      ],
      "execution_count": 0,
      "outputs": [
        {
          "output_type": "execute_result",
          "data": {
            "text/plain": [
              "tensor([1, 1, 1, 1])"
            ]
          },
          "metadata": {
            "tags": []
          },
          "execution_count": 10
        }
      ]
    },
    {
      "cell_type": "code",
      "metadata": {
        "id": "eQqMBAV29drS",
        "colab_type": "code",
        "outputId": "34ca9701-2f38-425c-9ac9-19ed93548e7a",
        "colab": {
          "base_uri": "https://localhost:8080/",
          "height": 35
        }
      },
      "source": [
        "alice._objects"
      ],
      "execution_count": 0,
      "outputs": [
        {
          "output_type": "execute_result",
          "data": {
            "text/plain": [
              "{}"
            ]
          },
          "metadata": {
            "tags": []
          },
          "execution_count": 11
        }
      ]
    },
    {
      "cell_type": "code",
      "metadata": {
        "id": "wMWXKLkh9hin",
        "colab_type": "code",
        "colab": {}
      },
      "source": [
        "x = x_ptr.get()"
      ],
      "execution_count": 0,
      "outputs": []
    },
    {
      "cell_type": "code",
      "metadata": {
        "id": "_7UAF8tP9knN",
        "colab_type": "code",
        "outputId": "6c4c0813-d768-4e43-de17-9d8ef38f7f19",
        "colab": {
          "base_uri": "https://localhost:8080/",
          "height": 35
        }
      },
      "source": [
        "x"
      ],
      "execution_count": 0,
      "outputs": [
        {
          "output_type": "execute_result",
          "data": {
            "text/plain": [
              "tensor([1, 2, 3, 4])"
            ]
          },
          "metadata": {
            "tags": []
          },
          "execution_count": 13
        }
      ]
    },
    {
      "cell_type": "code",
      "metadata": {
        "id": "_9e7ct8Q9mJC",
        "colab_type": "code",
        "colab": {}
      },
      "source": [
        "x = torch.tensor([1,2,3,4,5.], requires_grad=True).send(bob)\n",
        "y = torch.tensor([1,1,1,1,1.], requires_grad=True).send(bob)"
      ],
      "execution_count": 0,
      "outputs": []
    },
    {
      "cell_type": "code",
      "metadata": {
        "id": "wuRspeDC-8zH",
        "colab_type": "code",
        "colab": {}
      },
      "source": [
        "z = (x + y).sum()"
      ],
      "execution_count": 0,
      "outputs": []
    },
    {
      "cell_type": "code",
      "metadata": {
        "id": "sg0fnsVh_ALR",
        "colab_type": "code",
        "outputId": "2569a675-4ded-4801-c598-de5b02f9d29d",
        "colab": {
          "base_uri": "https://localhost:8080/",
          "height": 35
        }
      },
      "source": [
        "z"
      ],
      "execution_count": 0,
      "outputs": [
        {
          "output_type": "execute_result",
          "data": {
            "text/plain": [
              "(Wrapper)>[PointerTensor | me:4889677902 -> bob:71776085183]"
            ]
          },
          "metadata": {
            "tags": []
          },
          "execution_count": 16
        }
      ]
    },
    {
      "cell_type": "code",
      "metadata": {
        "id": "ahdR7GO-_BDY",
        "colab_type": "code",
        "outputId": "9c2bea34-44d8-4796-d255-e1d0dba7335d",
        "colab": {
          "base_uri": "https://localhost:8080/",
          "height": 35
        }
      },
      "source": [
        "z.backward()"
      ],
      "execution_count": 0,
      "outputs": [
        {
          "output_type": "execute_result",
          "data": {
            "text/plain": [
              "(Wrapper)>[PointerTensor | me:10927137073 -> bob:51145077860]"
            ]
          },
          "metadata": {
            "tags": []
          },
          "execution_count": 17
        }
      ]
    },
    {
      "cell_type": "code",
      "metadata": {
        "id": "oSC-zofT_Cmy",
        "colab_type": "code",
        "outputId": "7f8523ec-329c-411c-a2fe-96e2b59255e4",
        "colab": {
          "base_uri": "https://localhost:8080/",
          "height": 35
        }
      },
      "source": [
        "z"
      ],
      "execution_count": 0,
      "outputs": [
        {
          "output_type": "execute_result",
          "data": {
            "text/plain": [
              "(Wrapper)>[PointerTensor | me:4889677902 -> bob:71776085183]"
            ]
          },
          "metadata": {
            "tags": []
          },
          "execution_count": 18
        }
      ]
    },
    {
      "cell_type": "code",
      "metadata": {
        "id": "_B7OWkpZ_Fut",
        "colab_type": "code",
        "outputId": "7ad853de-29f4-4fb0-e06c-abe89b3ca4ff",
        "colab": {
          "base_uri": "https://localhost:8080/",
          "height": 35
        }
      },
      "source": [
        "x.grad"
      ],
      "execution_count": 0,
      "outputs": [
        {
          "output_type": "execute_result",
          "data": {
            "text/plain": [
              "(Wrapper)>[PointerTensor | me:43178543057 -> bob:95245649495]::grad"
            ]
          },
          "metadata": {
            "tags": []
          },
          "execution_count": 19
        }
      ]
    },
    {
      "cell_type": "code",
      "metadata": {
        "id": "bkF7wNco_LHV",
        "colab_type": "code",
        "colab": {}
      },
      "source": [
        "x_ = x.get()"
      ],
      "execution_count": 0,
      "outputs": []
    },
    {
      "cell_type": "code",
      "metadata": {
        "id": "ObqH2K3Y_OCU",
        "colab_type": "code",
        "outputId": "7328b025-fde7-4782-b06c-0ec6e665c4b9",
        "colab": {
          "base_uri": "https://localhost:8080/",
          "height": 35
        }
      },
      "source": [
        "x_"
      ],
      "execution_count": 0,
      "outputs": [
        {
          "output_type": "execute_result",
          "data": {
            "text/plain": [
              "tensor([1., 2., 3., 4., 5.], requires_grad=True)"
            ]
          },
          "metadata": {
            "tags": []
          },
          "execution_count": 21
        }
      ]
    },
    {
      "cell_type": "code",
      "metadata": {
        "id": "09e3O46M_OqD",
        "colab_type": "code",
        "outputId": "dda6e0fc-1c77-487c-dfe4-b6f11e7a1f43",
        "colab": {
          "base_uri": "https://localhost:8080/",
          "height": 35
        }
      },
      "source": [
        "x_.grad"
      ],
      "execution_count": 0,
      "outputs": [
        {
          "output_type": "execute_result",
          "data": {
            "text/plain": [
              "tensor([1., 1., 1., 1., 1.])"
            ]
          },
          "metadata": {
            "tags": []
          },
          "execution_count": 22
        }
      ]
    },
    {
      "cell_type": "code",
      "metadata": {
        "id": "rZJO-VQ-_Q5e",
        "colab_type": "code",
        "colab": {}
      },
      "source": [
        "y_ = y.get()"
      ],
      "execution_count": 0,
      "outputs": []
    },
    {
      "cell_type": "code",
      "metadata": {
        "id": "35Q3nMMX_TTE",
        "colab_type": "code",
        "outputId": "e8458515-6d28-47d6-e566-cfef7b3a0b82",
        "colab": {
          "base_uri": "https://localhost:8080/",
          "height": 35
        }
      },
      "source": [
        "y_.grad"
      ],
      "execution_count": 0,
      "outputs": [
        {
          "output_type": "execute_result",
          "data": {
            "text/plain": [
              "tensor([1., 1., 1., 1., 1.])"
            ]
          },
          "metadata": {
            "tags": []
          },
          "execution_count": 24
        }
      ]
    },
    {
      "cell_type": "code",
      "metadata": {
        "id": "SFVR-Qa4_UdZ",
        "colab_type": "code",
        "outputId": "527c7549-69d0-47a2-b90f-99c6de13f1b0",
        "colab": {
          "base_uri": "https://localhost:8080/",
          "height": 35
        }
      },
      "source": [
        "bob._objects"
      ],
      "execution_count": 0,
      "outputs": [
        {
          "output_type": "execute_result",
          "data": {
            "text/plain": [
              "{71776085183: tensor(20., grad_fn=<SumBackward0>)}"
            ]
          },
          "metadata": {
            "tags": []
          },
          "execution_count": 25
        }
      ]
    },
    {
      "cell_type": "code",
      "metadata": {
        "id": "IxqbjTRM_cPv",
        "colab_type": "code",
        "colab": {}
      },
      "source": [
        "z = z.get()"
      ],
      "execution_count": 0,
      "outputs": []
    },
    {
      "cell_type": "code",
      "metadata": {
        "id": "TmD8x_7O_esX",
        "colab_type": "code",
        "outputId": "cc0b407a-a367-4c5c-952a-c34985956189",
        "colab": {
          "base_uri": "https://localhost:8080/",
          "height": 35
        }
      },
      "source": [
        "z"
      ],
      "execution_count": 0,
      "outputs": [
        {
          "output_type": "execute_result",
          "data": {
            "text/plain": [
              "tensor(20., requires_grad=True)"
            ]
          },
          "metadata": {
            "tags": []
          },
          "execution_count": 27
        }
      ]
    },
    {
      "cell_type": "code",
      "metadata": {
        "id": "WNs3vFyD_fqk",
        "colab_type": "code",
        "outputId": "f3b4ced1-64c7-40c9-c478-23d3b076b47c",
        "colab": {
          "base_uri": "https://localhost:8080/",
          "height": 35
        }
      },
      "source": [
        "bob._objects"
      ],
      "execution_count": 0,
      "outputs": [
        {
          "output_type": "execute_result",
          "data": {
            "text/plain": [
              "{}"
            ]
          },
          "metadata": {
            "tags": []
          },
          "execution_count": 28
        }
      ]
    },
    {
      "cell_type": "code",
      "metadata": {
        "id": "a34u1-yc_hLH",
        "colab_type": "code",
        "colab": {}
      },
      "source": [
        ""
      ],
      "execution_count": 0,
      "outputs": []
    },
    {
      "cell_type": "code",
      "metadata": {
        "id": "r4R06_JNeIcO",
        "colab_type": "code",
        "colab": {}
      },
      "source": [
        ""
      ],
      "execution_count": 0,
      "outputs": []
    },
    {
      "cell_type": "code",
      "metadata": {
        "id": "5X33BnpOeIhf",
        "colab_type": "code",
        "colab": {}
      },
      "source": [
        ""
      ],
      "execution_count": 0,
      "outputs": []
    },
    {
      "cell_type": "code",
      "metadata": {
        "id": "-RPxjliyeIfK",
        "colab_type": "code",
        "colab": {}
      },
      "source": [
        "# A Toy Dataset\n",
        "data = torch.tensor([[0,0],[0,1],[1,0],[1,1.]], requires_grad=True)\n",
        "target = torch.tensor([[0],[0],[1],[1.]], requires_grad=True)\n",
        "\n",
        "# A Toy Model\n",
        "model = nn.Linear(2,1)\n",
        "\n",
        "def train():\n",
        "    # Training Logic\n",
        "    opt = optim.SGD(params=model.parameters(),lr=0.1)\n",
        "    for iter in range(20):\n",
        "\n",
        "        # 1) erase previous gradients (if they exist)\n",
        "        opt.zero_grad()\n",
        "\n",
        "        # 2) make a prediction\n",
        "        pred = model(data)\n",
        "        #print(pred)\n",
        "        # 3) calculate how much we missed\n",
        "        loss = ((pred - target)**2).sum()\n",
        "\n",
        "        # 4) figure out which weights caused us to miss\n",
        "        loss.backward()\n",
        "\n",
        "        # 5) change those weights\n",
        "        opt.step()\n",
        "\n",
        "        # 6) print our progress\n",
        "        print(loss.data)\n"
      ],
      "execution_count": 0,
      "outputs": []
    },
    {
      "cell_type": "code",
      "metadata": {
        "id": "1Zn1fkpPeJ35",
        "colab_type": "code",
        "outputId": "9b7ef97a-4766-41c4-bf1c-fc1c03c7d6fc",
        "colab": {
          "base_uri": "https://localhost:8080/",
          "height": 363
        }
      },
      "source": [
        "train()"
      ],
      "execution_count": 0,
      "outputs": [
        {
          "output_type": "stream",
          "text": [
            "tensor(1.6215)\n",
            "tensor(0.5663)\n",
            "tensor(0.3284)\n",
            "tensor(0.2087)\n",
            "tensor(0.1343)\n",
            "tensor(0.0867)\n",
            "tensor(0.0560)\n",
            "tensor(0.0363)\n",
            "tensor(0.0236)\n",
            "tensor(0.0153)\n",
            "tensor(0.0100)\n",
            "tensor(0.0065)\n",
            "tensor(0.0043)\n",
            "tensor(0.0028)\n",
            "tensor(0.0019)\n",
            "tensor(0.0013)\n",
            "tensor(0.0008)\n",
            "tensor(0.0006)\n",
            "tensor(0.0004)\n",
            "tensor(0.0003)\n"
          ],
          "name": "stdout"
        }
      ]
    },
    {
      "cell_type": "code",
      "metadata": {
        "id": "z3zkGCpHgLoi",
        "colab_type": "code",
        "outputId": "2458d830-fc93-4506-fe01-7c6fbc27f811",
        "colab": {
          "base_uri": "https://localhost:8080/",
          "height": 35
        }
      },
      "source": [
        "model(torch.tensor([1,1.],requires_grad=True))"
      ],
      "execution_count": 0,
      "outputs": [
        {
          "output_type": "execute_result",
          "data": {
            "text/plain": [
              "tensor([0.9805], grad_fn=<AddBackward0>)"
            ]
          },
          "metadata": {
            "tags": []
          },
          "execution_count": 15
        }
      ]
    },
    {
      "cell_type": "code",
      "metadata": {
        "id": "SA4dfwKIgS4S",
        "colab_type": "code",
        "colab": {}
      },
      "source": [
        "# create a couple workers\n",
        "\n",
        "bob = sy.VirtualWorker(hook, id=\"bob\")\n",
        "alice = sy.VirtualWorker(hook, id=\"alice\")"
      ],
      "execution_count": 0,
      "outputs": []
    },
    {
      "cell_type": "code",
      "metadata": {
        "id": "STcw0s1x4QBV",
        "colab_type": "code",
        "colab": {}
      },
      "source": [
        "# A Toy Dataset\n",
        "data = torch.tensor([[0,0],[0,1],[1,0],[1,1.]], requires_grad=True)\n",
        "target = torch.tensor([[0],[0],[1],[1.]], requires_grad=True)\n",
        "\n",
        "# get pointers to training data on each worker by\n",
        "# sending some training data to bob and alice\n",
        "data_bob = data[0:2]\n",
        "target_bob = target[0:2]\n",
        "\n",
        "data_alice = data[2:]\n",
        "target_alice = target[2:]\n",
        "\n",
        "# Iniitalize A Toy Model\n",
        "model = nn.Linear(2,1)\n",
        "\n",
        "data_bob = data_bob.send(bob)\n",
        "data_alice = data_alice.send(alice)\n",
        "target_bob = target_bob.send(bob)\n",
        "target_alice = target_alice.send(alice)\n",
        "\n",
        "# organize pointers into a list\n",
        "datasets = [(data_bob,target_bob),(data_alice,target_alice)]\n",
        "\n",
        "opt = optim.SGD(params=model.parameters(),lr=0.1)"
      ],
      "execution_count": 0,
      "outputs": []
    },
    {
      "cell_type": "code",
      "metadata": {
        "id": "smDpHasN4dj-",
        "colab_type": "code",
        "colab": {}
      },
      "source": [
        "def train():\n",
        "    # Training Logic\n",
        "    opt = optim.SGD(params=model.parameters(),lr=0.1)\n",
        "    for iter in range(10):\n",
        "        \n",
        "        # NEW) iterate through each worker's dataset\n",
        "        for data,target in datasets:\n",
        "            \n",
        "            # NEW) send model to correct worker\n",
        "            print(model)\n",
        "            model.send(data.location)\n",
        "            print(model)\n",
        "            # 1) erase previous gradients (if they exist)\n",
        "            opt.zero_grad()\n",
        "\n",
        "            # 2) make a prediction\n",
        "            pred = model(data)\n",
        "\n",
        "            # 3) calculate how much we missed\n",
        "            loss = ((pred - target)**2).sum()\n",
        "\n",
        "            # 4) figure out which weights caused us to miss\n",
        "            loss.backward()\n",
        "\n",
        "            # 5) change those weights\n",
        "            opt.step()\n",
        "            \n",
        "            # NEW) get model (with gradients)\n",
        "            model.get()\n",
        "\n",
        "            # 6) print our progress\n",
        "            print(loss.get()) # NEW) slight edit... need to call .get() on loss\\\n",
        "    \n",
        "# federated averaging"
      ],
      "execution_count": 0,
      "outputs": []
    },
    {
      "cell_type": "code",
      "metadata": {
        "id": "VVfYRVvX42Pr",
        "colab_type": "code",
        "outputId": "21cbd107-5ad9-42dd-b1a2-0999f977da16",
        "colab": {
          "base_uri": "https://localhost:8080/",
          "height": 1054
        }
      },
      "source": [
        "train()"
      ],
      "execution_count": 0,
      "outputs": [
        {
          "output_type": "stream",
          "text": [
            "Linear(in_features=2, out_features=1, bias=True)\n",
            "Linear(in_features=2, out_features=1, bias=True)\n",
            "tensor(0.0038, requires_grad=True)\n",
            "Linear(in_features=2, out_features=1, bias=True)\n",
            "Linear(in_features=2, out_features=1, bias=True)\n",
            "tensor(0.0033, requires_grad=True)\n",
            "Linear(in_features=2, out_features=1, bias=True)\n",
            "Linear(in_features=2, out_features=1, bias=True)\n",
            "tensor(0.0026, requires_grad=True)\n",
            "Linear(in_features=2, out_features=1, bias=True)\n",
            "Linear(in_features=2, out_features=1, bias=True)\n",
            "tensor(0.0023, requires_grad=True)\n",
            "Linear(in_features=2, out_features=1, bias=True)\n",
            "Linear(in_features=2, out_features=1, bias=True)\n",
            "tensor(0.0019, requires_grad=True)\n",
            "Linear(in_features=2, out_features=1, bias=True)\n",
            "Linear(in_features=2, out_features=1, bias=True)\n",
            "tensor(0.0016, requires_grad=True)\n",
            "Linear(in_features=2, out_features=1, bias=True)\n",
            "Linear(in_features=2, out_features=1, bias=True)\n",
            "tensor(0.0013, requires_grad=True)\n",
            "Linear(in_features=2, out_features=1, bias=True)\n",
            "Linear(in_features=2, out_features=1, bias=True)\n",
            "tensor(0.0011, requires_grad=True)\n",
            "Linear(in_features=2, out_features=1, bias=True)\n",
            "Linear(in_features=2, out_features=1, bias=True)\n",
            "tensor(0.0010, requires_grad=True)\n",
            "Linear(in_features=2, out_features=1, bias=True)\n",
            "Linear(in_features=2, out_features=1, bias=True)\n",
            "tensor(0.0008, requires_grad=True)\n",
            "Linear(in_features=2, out_features=1, bias=True)\n",
            "Linear(in_features=2, out_features=1, bias=True)\n",
            "tensor(0.0007, requires_grad=True)\n",
            "Linear(in_features=2, out_features=1, bias=True)\n",
            "Linear(in_features=2, out_features=1, bias=True)\n",
            "tensor(0.0006, requires_grad=True)\n",
            "Linear(in_features=2, out_features=1, bias=True)\n",
            "Linear(in_features=2, out_features=1, bias=True)\n",
            "tensor(0.0005, requires_grad=True)\n",
            "Linear(in_features=2, out_features=1, bias=True)\n",
            "Linear(in_features=2, out_features=1, bias=True)\n",
            "tensor(0.0004, requires_grad=True)\n",
            "Linear(in_features=2, out_features=1, bias=True)\n",
            "Linear(in_features=2, out_features=1, bias=True)\n",
            "tensor(0.0004, requires_grad=True)\n",
            "Linear(in_features=2, out_features=1, bias=True)\n",
            "Linear(in_features=2, out_features=1, bias=True)\n",
            "tensor(0.0003, requires_grad=True)\n",
            "Linear(in_features=2, out_features=1, bias=True)\n",
            "Linear(in_features=2, out_features=1, bias=True)\n",
            "tensor(0.0003, requires_grad=True)\n",
            "Linear(in_features=2, out_features=1, bias=True)\n",
            "Linear(in_features=2, out_features=1, bias=True)\n",
            "tensor(0.0002, requires_grad=True)\n",
            "Linear(in_features=2, out_features=1, bias=True)\n",
            "Linear(in_features=2, out_features=1, bias=True)\n",
            "tensor(0.0002, requires_grad=True)\n",
            "Linear(in_features=2, out_features=1, bias=True)\n",
            "Linear(in_features=2, out_features=1, bias=True)\n",
            "tensor(0.0002, requires_grad=True)\n"
          ],
          "name": "stdout"
        }
      ]
    },
    {
      "cell_type": "code",
      "metadata": {
        "id": "JkAjyoKy5Jzq",
        "colab_type": "code",
        "outputId": "cb7e51cb-19d7-4131-9106-d5b850585077",
        "colab": {
          "base_uri": "https://localhost:8080/",
          "height": 35
        }
      },
      "source": [
        "model(torch.tensor([1,1.],requires_grad=True))"
      ],
      "execution_count": 0,
      "outputs": [
        {
          "output_type": "execute_result",
          "data": {
            "text/plain": [
              "tensor([1.0562], grad_fn=<AddBackward0>)"
            ]
          },
          "metadata": {
            "tags": []
          },
          "execution_count": 20
        }
      ]
    },
    {
      "cell_type": "code",
      "metadata": {
        "id": "LRh0dClS6M2a",
        "colab_type": "code",
        "colab": {}
      },
      "source": [
        "params = list(model.parameters())"
      ],
      "execution_count": 0,
      "outputs": []
    },
    {
      "cell_type": "code",
      "metadata": {
        "id": "PgT4JhsP6huE",
        "colab_type": "code",
        "outputId": "7e3c7a16-f3a5-4a9f-8cfc-107a6f8e12ce",
        "colab": {
          "base_uri": "https://localhost:8080/",
          "height": 35
        }
      },
      "source": [
        "params[0].grad"
      ],
      "execution_count": 0,
      "outputs": [
        {
          "output_type": "execute_result",
          "data": {
            "text/plain": [
              "tensor([[-0.0640,  0.1084]])"
            ]
          },
          "metadata": {
            "tags": []
          },
          "execution_count": 28
        }
      ]
    },
    {
      "cell_type": "code",
      "metadata": {
        "id": "8PtAZkca7DTX",
        "colab_type": "code",
        "colab": {}
      },
      "source": [
        "bob = sy.VirtualWorker(hook, id=\"bob\")\n",
        "alice = sy.VirtualWorker(hook, id=\"alice\")"
      ],
      "execution_count": 0,
      "outputs": []
    },
    {
      "cell_type": "code",
      "metadata": {
        "id": "ldymfrMk_a90",
        "colab_type": "code",
        "outputId": "184bd7b0-33ec-428c-bff7-600827db079e",
        "colab": {
          "base_uri": "https://localhost:8080/",
          "height": 35
        }
      },
      "source": [
        "bob._objects"
      ],
      "execution_count": 0,
      "outputs": [
        {
          "output_type": "execute_result",
          "data": {
            "text/plain": [
              "{}"
            ]
          },
          "metadata": {
            "tags": []
          },
          "execution_count": 5
        }
      ]
    },
    {
      "cell_type": "markdown",
      "metadata": {
        "id": "43az6OsA-P0W",
        "colab_type": "text"
      },
      "source": [
        "## SPLIT NN ON TOY DATASET "
      ]
    },
    {
      "cell_type": "code",
      "metadata": {
        "id": "N_ZTtLIe-SgY",
        "colab_type": "code",
        "colab": {}
      },
      "source": [
        "# A Toy Dataset\n",
        "data = torch.tensor([[0,0,0],[0,0,1],[1,1,0],[1,0,1.],[1,1,1],[1,0,0],[0,1,0],[0,1,1]], requires_grad=True)\n",
        "target = torch.tensor([[0],[0],[1],[1.],[1],[1],[0],[0]], requires_grad=True)\n",
        "\n",
        "# get pointers to training data on each worker by\n",
        "# sending some training data to bob and alice\n",
        "data_bob = data[0:4]\n",
        "target_bob = target[0:4]\n",
        "\n",
        "data_alice = data[4:]\n",
        "target_alice = target[4:]\n",
        "\n",
        "# Iniitalize A Toy Model\n",
        "model = nn.Sequential(\n",
        "    nn.Linear(3,2),\n",
        "    nn.ReLU(),\n",
        "    nn.Linear(2,1)\n",
        ")\n",
        "\n",
        "data_bob = data_bob.send(bob)\n",
        "data_alice = data_alice.send(alice)\n",
        "target_bob = target_bob.send(bob)\n",
        "target_alice = target_alice.send(alice)\n",
        "\n",
        "# organize pointers into a list\n",
        "datasets = [(data_bob,target_bob),(data_alice,target_alice)]\n",
        "\n",
        "opt = optim.SGD(params=model.parameters(),lr=0.1)"
      ],
      "execution_count": 0,
      "outputs": []
    },
    {
      "cell_type": "code",
      "metadata": {
        "id": "SbCvorxRA60r",
        "colab_type": "code",
        "colab": {}
      },
      "source": [
        "def train():\n",
        "    # Training Logic\n",
        "    opt = optim.SGD(params=model.parameters(),lr=0.1)\n",
        "    for iter in range(10):\n",
        "        \n",
        "        # NEW) iterate through each worker's dataset\n",
        "        for data,target in datasets:\n",
        "            \n",
        "            # NEW) send model to correct worker\n",
        "            model.send(data.location)\n",
        "            print(model)\n",
        "            # 1) erase previous gradients (if they exist)\n",
        "            opt.zero_grad()\n",
        "\n",
        "            # 2) make a prediction\n",
        "            pred = model(data)\n",
        "            #pr = model(data).get() \n",
        "            #print(\"prediction:\",pr)\n",
        "            # 3) calculate how much we missed\n",
        "            loss = ((pred - target)**2).sum()\n",
        "\n",
        "            # 4) figure out which weights caused us to miss\n",
        "            loss.backward()\n",
        "\n",
        "            # 5) change those weights\n",
        "            opt.step()\n",
        "            \n",
        "            # NEW) get model (with gradients)\n",
        "            model.get()\n",
        "            \n",
        "            print(list(model.parameters())[1].grad)\n",
        "\n",
        "            # 6) print our progress\n",
        "            print(\"loss:\",loss.get()) # NEW) slight edit... need to call .get() on loss\\\n",
        "    \n",
        "# federated averaging"
      ],
      "execution_count": 0,
      "outputs": []
    },
    {
      "cell_type": "code",
      "metadata": {
        "id": "v7LtgQBDA9Cr",
        "colab_type": "code",
        "outputId": "f161a9e4-7975-4071-ccec-e73004e3923a",
        "colab": {
          "base_uri": "https://localhost:8080/",
          "height": 2435
        }
      },
      "source": [
        "train()"
      ],
      "execution_count": 0,
      "outputs": [
        {
          "output_type": "stream",
          "text": [
            "Sequential(\n",
            "  (0): Linear(in_features=3, out_features=2, bias=True)\n",
            "  (1): ReLU()\n",
            "  (2): Linear(in_features=2, out_features=1, bias=True)\n",
            ")\n",
            "tensor([4.0322, 1.2717])\n",
            "loss: tensor(3.9985, requires_grad=True)\n",
            "Sequential(\n",
            "  (0): Linear(in_features=3, out_features=2, bias=True)\n",
            "  (1): ReLU()\n",
            "  (2): Linear(in_features=2, out_features=1, bias=True)\n",
            ")\n",
            "tensor([-0.4976, -0.3512])\n",
            "loss: tensor(1.1500, requires_grad=True)\n",
            "Sequential(\n",
            "  (0): Linear(in_features=3, out_features=2, bias=True)\n",
            "  (1): ReLU()\n",
            "  (2): Linear(in_features=2, out_features=1, bias=True)\n",
            ")\n",
            "tensor([ 0.1877, -0.2439])\n",
            "loss: tensor(0.9486, requires_grad=True)\n",
            "Sequential(\n",
            "  (0): Linear(in_features=3, out_features=2, bias=True)\n",
            "  (1): ReLU()\n",
            "  (2): Linear(in_features=2, out_features=1, bias=True)\n",
            ")\n",
            "tensor([-0.3734, -0.1508])\n",
            "loss: tensor(0.8084, requires_grad=True)\n",
            "Sequential(\n",
            "  (0): Linear(in_features=3, out_features=2, bias=True)\n",
            "  (1): ReLU()\n",
            "  (2): Linear(in_features=2, out_features=1, bias=True)\n",
            ")\n",
            "tensor([-0.0019, -0.2647])\n",
            "loss: tensor(0.9000, requires_grad=True)\n",
            "Sequential(\n",
            "  (0): Linear(in_features=3, out_features=2, bias=True)\n",
            "  (1): ReLU()\n",
            "  (2): Linear(in_features=2, out_features=1, bias=True)\n",
            ")\n",
            "tensor([-0.1084, -0.1200])\n",
            "loss: tensor(0.7314, requires_grad=True)\n",
            "Sequential(\n",
            "  (0): Linear(in_features=3, out_features=2, bias=True)\n",
            "  (1): ReLU()\n",
            "  (2): Linear(in_features=2, out_features=1, bias=True)\n",
            ")\n",
            "tensor([-0.2652, -0.3529])\n",
            "loss: tensor(0.8419, requires_grad=True)\n",
            "Sequential(\n",
            "  (0): Linear(in_features=3, out_features=2, bias=True)\n",
            "  (1): ReLU()\n",
            "  (2): Linear(in_features=2, out_features=1, bias=True)\n",
            ")\n",
            "tensor([-0.0493, -0.0579])\n",
            "loss: tensor(0.6449, requires_grad=True)\n",
            "Sequential(\n",
            "  (0): Linear(in_features=3, out_features=2, bias=True)\n",
            "  (1): ReLU()\n",
            "  (2): Linear(in_features=2, out_features=1, bias=True)\n",
            ")\n",
            "tensor([-0.6839, -0.4596])\n",
            "loss: tensor(0.7619, requires_grad=True)\n",
            "Sequential(\n",
            "  (0): Linear(in_features=3, out_features=2, bias=True)\n",
            "  (1): ReLU()\n",
            "  (2): Linear(in_features=2, out_features=1, bias=True)\n",
            ")\n",
            "tensor([0.0560, 0.0699])\n",
            "loss: tensor(0.5478, requires_grad=True)\n",
            "Sequential(\n",
            "  (0): Linear(in_features=3, out_features=2, bias=True)\n",
            "  (1): ReLU()\n",
            "  (2): Linear(in_features=2, out_features=1, bias=True)\n",
            ")\n",
            "tensor([-0.7336, -0.5975])\n",
            "loss: tensor(0.6517, requires_grad=True)\n",
            "Sequential(\n",
            "  (0): Linear(in_features=3, out_features=2, bias=True)\n",
            "  (1): ReLU()\n",
            "  (2): Linear(in_features=2, out_features=1, bias=True)\n",
            ")\n",
            "tensor([0.1576, 0.2063])\n",
            "loss: tensor(0.4431, requires_grad=True)\n",
            "Sequential(\n",
            "  (0): Linear(in_features=3, out_features=2, bias=True)\n",
            "  (1): ReLU()\n",
            "  (2): Linear(in_features=2, out_features=1, bias=True)\n",
            ")\n",
            "tensor([-0.7660, -0.9925])\n",
            "loss: tensor(0.5596, requires_grad=True)\n",
            "Sequential(\n",
            "  (0): Linear(in_features=3, out_features=2, bias=True)\n",
            "  (1): ReLU()\n",
            "  (2): Linear(in_features=2, out_features=1, bias=True)\n",
            ")\n",
            "tensor([0.2997, 0.4070])\n",
            "loss: tensor(0.3678, requires_grad=True)\n",
            "Sequential(\n",
            "  (0): Linear(in_features=3, out_features=2, bias=True)\n",
            "  (1): ReLU()\n",
            "  (2): Linear(in_features=2, out_features=1, bias=True)\n",
            ")\n",
            "tensor([-0.7796, -1.0594])\n",
            "loss: tensor(0.4698, requires_grad=True)\n",
            "Sequential(\n",
            "  (0): Linear(in_features=3, out_features=2, bias=True)\n",
            "  (1): ReLU()\n",
            "  (2): Linear(in_features=2, out_features=1, bias=True)\n",
            ")\n",
            "tensor([0.2997, 0.4219])\n",
            "loss: tensor(0.2626, requires_grad=True)\n",
            "Sequential(\n",
            "  (0): Linear(in_features=3, out_features=2, bias=True)\n",
            "  (1): ReLU()\n",
            "  (2): Linear(in_features=2, out_features=1, bias=True)\n",
            ")\n",
            "tensor([-0.7100, -1.0018])\n",
            "loss: tensor(0.3429, requires_grad=True)\n",
            "Sequential(\n",
            "  (0): Linear(in_features=3, out_features=2, bias=True)\n",
            "  (1): ReLU()\n",
            "  (2): Linear(in_features=2, out_features=1, bias=True)\n",
            ")\n",
            "tensor([ 0.2623, -0.0585])\n",
            "loss: tensor(0.1739, requires_grad=True)\n",
            "Sequential(\n",
            "  (0): Linear(in_features=3, out_features=2, bias=True)\n",
            "  (1): ReLU()\n",
            "  (2): Linear(in_features=2, out_features=1, bias=True)\n",
            ")\n",
            "tensor([-0.4971, -0.4636])\n",
            "loss: tensor(0.1846, requires_grad=True)\n",
            "Sequential(\n",
            "  (0): Linear(in_features=3, out_features=2, bias=True)\n",
            "  (1): ReLU()\n",
            "  (2): Linear(in_features=2, out_features=1, bias=True)\n",
            ")\n",
            "tensor([ 0.1812, -0.0422])\n",
            "loss: tensor(0.0929, requires_grad=True)\n"
          ],
          "name": "stdout"
        }
      ]
    },
    {
      "cell_type": "code",
      "metadata": {
        "id": "ky5Zq-AaahmG",
        "colab_type": "code",
        "outputId": "011143f6-c3f8-421c-fd6f-85de56a9b4e2",
        "colab": {
          "base_uri": "https://localhost:8080/",
          "height": 35
        }
      },
      "source": [
        "model(torch.tensor([0,0.,0.],requires_grad=True))"
      ],
      "execution_count": 0,
      "outputs": [
        {
          "output_type": "execute_result",
          "data": {
            "text/plain": [
              "tensor([0.0737], grad_fn=<AddBackward0>)"
            ]
          },
          "metadata": {
            "tags": []
          },
          "execution_count": 11
        }
      ]
    },
    {
      "cell_type": "code",
      "metadata": {
        "id": "kL4x1li2A-eI",
        "colab_type": "code",
        "outputId": "a57cc566-91de-4d50-be64-9bb4e26e0385",
        "colab": {
          "base_uri": "https://localhost:8080/",
          "height": 86
        }
      },
      "source": [
        "for data,target in datasets:\n",
        "\n",
        "    # NEW) send model to correct worker\n",
        "    model.send(data.location)\n",
        "\n",
        "    # 1) erase previous gradients (if they exist)\n",
        "    opt.zero_grad()\n",
        "\n",
        "    # 2) make a prediction\n",
        "    pred = model(data)\n",
        "\n",
        "    # 3) calculate how much we missed\n",
        "    loss = ((pred - target)**2).sum()\n",
        "\n",
        "    # 4) figure out which weights caused us to miss\n",
        "    loss.backward()\n",
        "\n",
        "    # 5) change those weights\n",
        "    opt.step()\n",
        "\n",
        "    # NEW) get model (with gradients)\n",
        "    model.get()\n",
        "    print(list(model.parameters())[1].grad)\n",
        "    # 6) print our progress\n",
        "    print('loss:',loss.get()) # NEW) slight edit... need to call .get() on loss\\"
      ],
      "execution_count": 0,
      "outputs": [
        {
          "output_type": "stream",
          "text": [
            "tensor([-3.5763, -3.5968])\n",
            "loss: tensor(3.7525, requires_grad=True)\n",
            "tensor([3.2863, 3.2910])\n",
            "loss: tensor(4.0966, requires_grad=True)\n"
          ],
          "name": "stdout"
        }
      ]
    },
    {
      "cell_type": "code",
      "metadata": {
        "id": "PV7eAsPAmPJW",
        "colab_type": "code",
        "colab": {}
      },
      "source": [
        "import copy"
      ],
      "execution_count": 0,
      "outputs": []
    },
    {
      "cell_type": "code",
      "metadata": {
        "id": "GW1lheVpN5Sj",
        "colab_type": "code",
        "colab": {}
      },
      "source": [
        "# A Toy Dataset\n",
        "data = torch.tensor([[0,0,0],[0,0,1],[1,1,0],[1,0,1.],[1,1,1],[1,0,0],[0,1,0],[0,1,1]], requires_grad=True)\n",
        "target = torch.tensor([[0],[0],[1],[1.],[1],[1],[0],[0]], requires_grad=True)\n",
        "\n",
        "# get pointers to training data on each worker by\n",
        "# sending some training data to bob and alice\n",
        "data_bob = data[0:4]\n",
        "target_bob = target[0:4]\n",
        "\n",
        "data_alice = data[4:]\n",
        "target_alice = target[4:]\n",
        "\n",
        "# Iniitalize A Toy Model\n",
        "# one model per client \n",
        "models = [nn.Sequential(nn.Linear(3,2),nn.ReLU()),nn.Sequential(nn.Linear(3,2),nn.ReLU())]\n",
        "model = nn.Linear(2,1)\n",
        "\n",
        "data_bob = data_bob.send(bob)\n",
        "data_alice = data_alice.send(alice)\n",
        "\n",
        "### MODEL A, can keep the labels on server \n",
        "#target_bob = target_bob.send(bob)\n",
        "#target_alice = target_alice.send(alice)\n",
        "\n",
        "#send models ti the clients \n",
        "models[0] = models[0].send(bob)\n",
        "models[1] = models[1].send(alice)\n",
        "\n",
        "opt1 = optim.SGD(params=models[0].parameters(),lr=0.1)\n",
        "opt2 = optim.SGD(params=models[1].parameters(),lr=0.1)\n",
        "# organize pointers into a list\n",
        "datasets = [(models[0],data_bob,target_bob,opt1),(models[1],data_alice,target_alice,opt2)]\n",
        "\n",
        "\n",
        "opt = optim.SGD(params=model.parameters(),lr=0.1)"
      ],
      "execution_count": 0,
      "outputs": []
    },
    {
      "cell_type": "code",
      "metadata": {
        "id": "RNe6XSECOhou",
        "colab_type": "code",
        "colab": {}
      },
      "source": [
        "def train():\n",
        "    # Training Logic\n",
        "    #opt = optim.SGD(params=model.parameters(),lr=0.1)\n",
        "    for iter in range(20):\n",
        "        \n",
        "        # NEW) iterate through each worker's dataset\n",
        "        for mod_c,data,target,opt_c in datasets:\n",
        "            \n",
        "            # 1) erase previous gradients (if they exist)\n",
        "            opt.step()\n",
        "            opt_c.step()\n",
        "            opt_c.zero_grad()\n",
        "            opt.zero_grad()\n",
        "\n",
        "            # 2) make a prediction until cut layer (client location)\n",
        "            pred_c = mod_c(data)\n",
        "            copy = pred_c.copy()\n",
        "            # 3) get this to the server \n",
        "            inp = copy.get()\n",
        "            \n",
        "            # 4) make prediction with second part of the model (server location)\n",
        "            pred = model(inp)\n",
        "            \n",
        "            # 5) calculate how much we missed\n",
        "            loss = ((pred - target)**2).sum()\n",
        "\n",
        "            # 6) figure out which weights caused us to miss\n",
        "            loss.backward()\n",
        "\n",
        "            # 7) change those weights\n",
        "            #opt.step()\n",
        "            \n",
        "            # 8) send the last gradient to the client \n",
        "            gradient = inp.grad\n",
        "            \n",
        "            #gradient = list(model.parameters())[0].grad\n",
        "            #print(\"gradient=\",gradient)\n",
        "            gradient = gradient.send(data.location)\n",
        "            #print(\"gradient=\",gradient)\n",
        "            \n",
        "            # 9) figure out which weights caused us to miss with that gradient as input \n",
        "            #pred_c.requires_grad_(True)\n",
        "            #pred_c.grad = gradient\n",
        "            \n",
        "            #mod_c.get()\n",
        "            #print(list(mod_c.parameters())[-1].requires_grad)\n",
        "            #list(mod_c.parameters())[-1].grad = gradient\n",
        "            #print(list(mod_c.parameters())[-1].grad)\n",
        "            #mod_c = mod_c.send(data.location)\n",
        "            #pred_c.backward(torch.ones(pred_c.size()),retain_graph=True)\n",
        "            #print(pred_c)\n",
        "            pred_c.backward(gradient)\n",
        "            \n",
        "            # 10) change those weights\n",
        "            #opt.step()\n",
        "            #opt_c.step()\n",
        "  \n",
        "            #params = list(mod_c.get().parameters())\n",
        "            #params = list(model.parameters())\n",
        "            #print(\"params\",params[0])\n",
        "            #mod_c.send(data.location)\n",
        "            #print('data1',data)\n",
        "            #D = data.copy()\n",
        "            #loc = D.location\n",
        "            #print(\"grad:\", data.grad.clone().get())\n",
        "            #print(\"data1,5\",data)\n",
        "            #data = data.send(loc)\n",
        "            #print(\"data2\",data)\n",
        "        \n",
        "            # 11) print our progress\n",
        "            print(\"loss:\",loss) # NEW) slight edit... need to call .get() on loss\\\n",
        "    \n",
        "# federated averaging"
      ],
      "execution_count": 0,
      "outputs": []
    },
    {
      "cell_type": "code",
      "metadata": {
        "id": "LX4ZNFAJRzMs",
        "colab_type": "code",
        "outputId": "6b1ee72d-c072-44cb-bf59-2872dfa12cdc",
        "colab": {
          "base_uri": "https://localhost:8080/",
          "height": 708
        }
      },
      "source": [
        "train()"
      ],
      "execution_count": 0,
      "outputs": [
        {
          "output_type": "stream",
          "text": [
            "loss: tensor(0.0004, grad_fn=<SumBackward0>)\n",
            "loss: tensor(0.0151, grad_fn=<SumBackward0>)\n",
            "loss: tensor(0.0004, grad_fn=<SumBackward0>)\n",
            "loss: tensor(0.0113, grad_fn=<SumBackward0>)\n",
            "loss: tensor(0.0004, grad_fn=<SumBackward0>)\n",
            "loss: tensor(0.0085, grad_fn=<SumBackward0>)\n",
            "loss: tensor(0.0002, grad_fn=<SumBackward0>)\n",
            "loss: tensor(0.0063, grad_fn=<SumBackward0>)\n",
            "loss: tensor(0.0001, grad_fn=<SumBackward0>)\n",
            "loss: tensor(0.0048, grad_fn=<SumBackward0>)\n",
            "loss: tensor(0.0001, grad_fn=<SumBackward0>)\n",
            "loss: tensor(0.0036, grad_fn=<SumBackward0>)\n",
            "loss: tensor(0.0001, grad_fn=<SumBackward0>)\n",
            "loss: tensor(0.0026, grad_fn=<SumBackward0>)\n",
            "loss: tensor(0.0001, grad_fn=<SumBackward0>)\n",
            "loss: tensor(0.0019, grad_fn=<SumBackward0>)\n",
            "loss: tensor(4.1138e-05, grad_fn=<SumBackward0>)\n",
            "loss: tensor(0.0014, grad_fn=<SumBackward0>)\n",
            "loss: tensor(2.9122e-05, grad_fn=<SumBackward0>)\n",
            "loss: tensor(0.0011, grad_fn=<SumBackward0>)\n",
            "loss: tensor(5.6937e-05, grad_fn=<SumBackward0>)\n",
            "loss: tensor(0.0008, grad_fn=<SumBackward0>)\n",
            "loss: tensor(8.5388e-05, grad_fn=<SumBackward0>)\n",
            "loss: tensor(0.0006, grad_fn=<SumBackward0>)\n",
            "loss: tensor(8.5786e-05, grad_fn=<SumBackward0>)\n",
            "loss: tensor(0.0004, grad_fn=<SumBackward0>)\n",
            "loss: tensor(1.5379e-05, grad_fn=<SumBackward0>)\n",
            "loss: tensor(0.0003, grad_fn=<SumBackward0>)\n",
            "loss: tensor(1.0062e-05, grad_fn=<SumBackward0>)\n",
            "loss: tensor(0.0003, grad_fn=<SumBackward0>)\n",
            "loss: tensor(5.1895e-05, grad_fn=<SumBackward0>)\n",
            "loss: tensor(0.0002, grad_fn=<SumBackward0>)\n",
            "loss: tensor(8.4014e-05, grad_fn=<SumBackward0>)\n",
            "loss: tensor(0.0001, grad_fn=<SumBackward0>)\n",
            "loss: tensor(7.2015e-05, grad_fn=<SumBackward0>)\n",
            "loss: tensor(9.3474e-05, grad_fn=<SumBackward0>)\n",
            "loss: tensor(1.2464e-05, grad_fn=<SumBackward0>)\n",
            "loss: tensor(9.4588e-05, grad_fn=<SumBackward0>)\n",
            "loss: tensor(7.6344e-06, grad_fn=<SumBackward0>)\n",
            "loss: tensor(9.9981e-05, grad_fn=<SumBackward0>)\n"
          ],
          "name": "stdout"
        }
      ]
    },
    {
      "cell_type": "code",
      "metadata": {
        "id": "gga5bgFGKnbV",
        "colab_type": "code",
        "outputId": "36317653-6f79-4b06-808b-e07854285591",
        "colab": {
          "base_uri": "https://localhost:8080/",
          "height": 35
        }
      },
      "source": [
        "model(models[0].get()(torch.tensor([0,0.,1.])))"
      ],
      "execution_count": 0,
      "outputs": [
        {
          "output_type": "execute_result",
          "data": {
            "text/plain": [
              "tensor([-0.0005], grad_fn=<AddBackward0>)"
            ]
          },
          "metadata": {
            "tags": []
          },
          "execution_count": 316
        }
      ]
    },
    {
      "cell_type": "code",
      "metadata": {
        "id": "RZrCfic1lDnx",
        "colab_type": "code",
        "outputId": "c8236ee5-04e2-40cc-dbbe-b1db2cc546d1",
        "colab": {
          "base_uri": "https://localhost:8080/",
          "height": 35
        }
      },
      "source": [
        "model(models[0].get()(torch.tensor([0,0.,0.])))"
      ],
      "execution_count": 0,
      "outputs": [
        {
          "output_type": "execute_result",
          "data": {
            "text/plain": [
              "tensor([0.0084], grad_fn=<AddBackward0>)"
            ]
          },
          "metadata": {
            "tags": []
          },
          "execution_count": 259
        }
      ]
    },
    {
      "cell_type": "code",
      "metadata": {
        "id": "rdaTjtImDd8b",
        "colab_type": "code",
        "colab": {}
      },
      "source": [
        "models[0] = models[0].send(bob)"
      ],
      "execution_count": 0,
      "outputs": []
    },
    {
      "cell_type": "code",
      "metadata": {
        "id": "XBsNry0tDpVD",
        "colab_type": "code",
        "outputId": "24724065-e839-40db-8890-c83e91165784",
        "colab": {
          "base_uri": "https://localhost:8080/",
          "height": 35
        }
      },
      "source": [
        "model(models[1].get()(torch.tensor([0,0.,1.])))"
      ],
      "execution_count": 0,
      "outputs": [
        {
          "output_type": "execute_result",
          "data": {
            "text/plain": [
              "tensor([0.3594], grad_fn=<AddBackward0>)"
            ]
          },
          "metadata": {
            "tags": []
          },
          "execution_count": 318
        }
      ]
    },
    {
      "cell_type": "code",
      "metadata": {
        "id": "VzYSgkHzDpP7",
        "colab_type": "code",
        "colab": {}
      },
      "source": [
        "models[1] = models[1].send(alice)"
      ],
      "execution_count": 0,
      "outputs": []
    },
    {
      "cell_type": "code",
      "metadata": {
        "id": "RsNkxWe3DpJI",
        "colab_type": "code",
        "outputId": "13247ef8-4544-4fc3-b5ac-fe8bfed50755",
        "colab": {
          "base_uri": "https://localhost:8080/",
          "height": 35
        }
      },
      "source": [
        "model(models[1].get()(torch.tensor([1,1.,1.])))"
      ],
      "execution_count": 0,
      "outputs": [
        {
          "output_type": "execute_result",
          "data": {
            "text/plain": [
              "tensor([1.0007], grad_fn=<AddBackward0>)"
            ]
          },
          "metadata": {
            "tags": []
          },
          "execution_count": 312
        }
      ]
    },
    {
      "cell_type": "code",
      "metadata": {
        "id": "jOXbYZMhIP6t",
        "colab_type": "code",
        "outputId": "c11bfabe-fa74-4060-9ee4-855ad032b82b",
        "colab": {
          "base_uri": "https://localhost:8080/",
          "height": 35
        }
      },
      "source": [
        "model(models[0].get()(torch.tensor([1,1.,1.])))"
      ],
      "execution_count": 0,
      "outputs": [
        {
          "output_type": "execute_result",
          "data": {
            "text/plain": [
              "tensor([0.9635], grad_fn=<AddBackward0>)"
            ]
          },
          "metadata": {
            "tags": []
          },
          "execution_count": 314
        }
      ]
    },
    {
      "cell_type": "code",
      "metadata": {
        "id": "zph5whcTJPED",
        "colab_type": "code",
        "colab": {}
      },
      "source": [
        "models[0] = models[0].send(bob)"
      ],
      "execution_count": 0,
      "outputs": []
    },
    {
      "cell_type": "code",
      "metadata": {
        "id": "aAue1i5rGA4q",
        "colab_type": "code",
        "outputId": "cda44dbf-5d81-4dd9-a331-985190b16af9",
        "colab": {
          "base_uri": "https://localhost:8080/",
          "height": 190
        }
      },
      "source": [
        "i = 0 \n",
        "for p in model.parameters():\n",
        "  print(i)\n",
        "  if (i==0):\n",
        "    p.grad = torch.tensor([1.,2.],requires_grad=True)\n",
        "  print(p)\n",
        "  i+=1\n",
        "  \n",
        "  \n",
        "for p in model.parameters():\n",
        "  print(i)\n",
        "  print(p.grad)\n",
        "  i+=1"
      ],
      "execution_count": 0,
      "outputs": [
        {
          "output_type": "stream",
          "text": [
            "0\n",
            "Parameter containing:\n",
            "tensor([[3., 3.]], grad_fn=<AddBackward0>)\n",
            "1\n",
            "Parameter containing:\n",
            "tensor([0.4538], requires_grad=True)\n",
            "2\n",
            "tensor([1., 2.], grad_fn=<NotImplemented>)\n",
            "3\n",
            "tensor([0.])\n"
          ],
          "name": "stdout"
        }
      ]
    },
    {
      "cell_type": "code",
      "metadata": {
        "id": "x285sWQNzJol",
        "colab_type": "code",
        "outputId": "4d7efbb9-eb72-42ce-bdd6-980bee2faf67",
        "colab": {
          "base_uri": "https://localhost:8080/",
          "height": 86
        }
      },
      "source": [
        "models[0]"
      ],
      "execution_count": 0,
      "outputs": [
        {
          "output_type": "execute_result",
          "data": {
            "text/plain": [
              "Sequential(\n",
              "  (0): Linear(in_features=3, out_features=2, bias=True)\n",
              "  (1): ReLU()\n",
              ")"
            ]
          },
          "metadata": {
            "tags": []
          },
          "execution_count": 111
        }
      ]
    },
    {
      "cell_type": "code",
      "metadata": {
        "id": "HjUdwZwxGBHP",
        "colab_type": "code",
        "outputId": "73ef1c6b-9ba7-4464-d374-1ca55b8fc1de",
        "colab": {
          "base_uri": "https://localhost:8080/",
          "height": 86
        }
      },
      "source": [
        "models[0].get()"
      ],
      "execution_count": 0,
      "outputs": [
        {
          "output_type": "execute_result",
          "data": {
            "text/plain": [
              "Sequential(\n",
              "  (0): Linear(in_features=3, out_features=2, bias=True)\n",
              "  (1): ReLU()\n",
              ")"
            ]
          },
          "metadata": {
            "tags": []
          },
          "execution_count": 97
        }
      ]
    },
    {
      "cell_type": "code",
      "metadata": {
        "colab_type": "code",
        "id": "fxQq_GGIiHk4",
        "colab": {}
      },
      "source": [
        "list(models[0].parameters())[-1].grad =  torch.tensor([4.,3.])"
      ],
      "execution_count": 0,
      "outputs": []
    },
    {
      "cell_type": "code",
      "metadata": {
        "colab_type": "code",
        "outputId": "262c96b1-7676-4dd9-b340-a1c18070f323",
        "id": "IRMR162iiHlB",
        "colab": {
          "base_uri": "https://localhost:8080/",
          "height": 35
        }
      },
      "source": [
        "print(list(models[0].parameters())[-1].grad)"
      ],
      "execution_count": 0,
      "outputs": [
        {
          "output_type": "stream",
          "text": [
            "tensor([4., 3.])\n"
          ],
          "name": "stdout"
        }
      ]
    },
    {
      "cell_type": "code",
      "metadata": {
        "colab_type": "code",
        "outputId": "f7e9a7f3-9618-464f-ce71-41d1ff65c5cd",
        "id": "SX2gOPbNiHlF",
        "colab": {
          "base_uri": "https://localhost:8080/",
          "height": 35
        }
      },
      "source": [
        "list(models[0].parameters())[-1].grad "
      ],
      "execution_count": 0,
      "outputs": [
        {
          "output_type": "execute_result",
          "data": {
            "text/plain": [
              "tensor([4., 3.])"
            ]
          },
          "metadata": {
            "tags": []
          },
          "execution_count": 84
        }
      ]
    },
    {
      "cell_type": "code",
      "metadata": {
        "id": "cJj0f8vRGBMl",
        "colab_type": "code",
        "colab": {}
      },
      "source": [
        ""
      ],
      "execution_count": 0,
      "outputs": []
    },
    {
      "cell_type": "code",
      "metadata": {
        "id": "6b63rYn72ipT",
        "colab_type": "code",
        "colab": {}
      },
      "source": [
        "a = torch.tensor([1,1,1,1.],requires_grad=True)"
      ],
      "execution_count": 0,
      "outputs": []
    },
    {
      "cell_type": "code",
      "metadata": {
        "id": "DkfKgFhK7g10",
        "colab_type": "code",
        "outputId": "00ade88c-fd5f-46ed-907b-e4087592f25a",
        "colab": {
          "base_uri": "https://localhost:8080/",
          "height": 35
        }
      },
      "source": [
        "a"
      ],
      "execution_count": 0,
      "outputs": [
        {
          "output_type": "execute_result",
          "data": {
            "text/plain": [
              "tensor([1., 1., 1., 1.], requires_grad=True)"
            ]
          },
          "metadata": {
            "tags": []
          },
          "execution_count": 43
        }
      ]
    },
    {
      "cell_type": "code",
      "metadata": {
        "id": "P0noafSL7lgS",
        "colab_type": "code",
        "colab": {}
      },
      "source": [
        "b = a + 2 "
      ],
      "execution_count": 0,
      "outputs": []
    },
    {
      "cell_type": "code",
      "metadata": {
        "id": "HIyxFWHp9DRl",
        "colab_type": "code",
        "outputId": "4f172a3c-52c7-490c-ef50-0a0d176c8774",
        "colab": {
          "base_uri": "https://localhost:8080/",
          "height": 35
        }
      },
      "source": [
        "b"
      ],
      "execution_count": 0,
      "outputs": [
        {
          "output_type": "execute_result",
          "data": {
            "text/plain": [
              "tensor([3., 3., 3., 3.], grad_fn=<AddBackward0>)"
            ]
          },
          "metadata": {
            "tags": []
          },
          "execution_count": 45
        }
      ]
    },
    {
      "cell_type": "code",
      "metadata": {
        "id": "t-50WnRg78kJ",
        "colab_type": "code",
        "colab": {}
      },
      "source": [
        "b.backward(torch.tensor([1.,1.,1.,1.]))"
      ],
      "execution_count": 0,
      "outputs": []
    },
    {
      "cell_type": "code",
      "metadata": {
        "id": "ECyIpUu485c6",
        "colab_type": "code",
        "outputId": "de30f028-650e-44ea-e0ae-10cc4a8b571d",
        "colab": {
          "base_uri": "https://localhost:8080/",
          "height": 35
        }
      },
      "source": [
        "print(b.grad)"
      ],
      "execution_count": 0,
      "outputs": [
        {
          "output_type": "stream",
          "text": [
            "None\n"
          ],
          "name": "stdout"
        }
      ]
    },
    {
      "cell_type": "code",
      "metadata": {
        "id": "_KuICNIP9Au0",
        "colab_type": "code",
        "outputId": "c460733e-663a-48bb-cc6e-daccaf0771f0",
        "colab": {
          "base_uri": "https://localhost:8080/",
          "height": 35
        }
      },
      "source": [
        "print(a.grad)"
      ],
      "execution_count": 0,
      "outputs": [
        {
          "output_type": "stream",
          "text": [
            "tensor([3., 3., 3., 3.])\n"
          ],
          "name": "stdout"
        }
      ]
    },
    {
      "cell_type": "code",
      "metadata": {
        "id": "a8Tc_bfU9HS9",
        "colab_type": "code",
        "outputId": "78c9be68-d745-4981-b4e5-d6b637eda4be",
        "colab": {
          "base_uri": "https://localhost:8080/",
          "height": 35
        }
      },
      "source": [
        "a.grad.zero_()"
      ],
      "execution_count": 0,
      "outputs": [
        {
          "output_type": "execute_result",
          "data": {
            "text/plain": [
              "tensor([0., 0., 0., 0.])"
            ]
          },
          "metadata": {
            "tags": []
          },
          "execution_count": 41
        }
      ]
    },
    {
      "cell_type": "code",
      "metadata": {
        "id": "W6mWwWVihcwq",
        "colab_type": "code",
        "outputId": "abe34c6c-c5f3-455a-9774-c4be7ad2e01d",
        "colab": {
          "base_uri": "https://localhost:8080/",
          "height": 35
        }
      },
      "source": [
        "torch.ones(3)"
      ],
      "execution_count": 0,
      "outputs": [
        {
          "output_type": "execute_result",
          "data": {
            "text/plain": [
              "tensor([1., 1., 1.])"
            ]
          },
          "metadata": {
            "tags": []
          },
          "execution_count": 95
        }
      ]
    },
    {
      "cell_type": "markdown",
      "metadata": {
        "id": "ZgCAvlO9V8Z5",
        "colab_type": "text"
      },
      "source": [
        "## TRUSTED AGGREGATOR"
      ]
    },
    {
      "cell_type": "code",
      "metadata": {
        "id": "9fR-qXkgWHcw",
        "colab_type": "code",
        "colab": {}
      },
      "source": [
        "# create a couple workers\n",
        "\n",
        "bob = sy.VirtualWorker(hook, id=\"bob\")\n",
        "alice = sy.VirtualWorker(hook, id=\"alice\")\n",
        "secure_worker = sy.VirtualWorker(hook, id=\"secure_worker\")\n",
        "\n",
        "\n",
        "# A Toy Dataset\n",
        "data = torch.tensor([[0,0],[0,1],[1,0],[1,1.]], requires_grad=True)\n",
        "target = torch.tensor([[0],[0],[1],[1.]], requires_grad=True)\n",
        "\n",
        "# get pointers to training data on each worker by\n",
        "# sending some training data to bob and alice\n",
        "bobs_data = data[0:2].send(bob)\n",
        "bobs_target = target[0:2].send(bob)\n",
        "\n",
        "alices_data = data[2:].send(alice)\n",
        "alices_target = target[2:].send(alice)"
      ],
      "execution_count": 0,
      "outputs": []
    },
    {
      "cell_type": "code",
      "metadata": {
        "id": "qyAMvZutV_CZ",
        "colab_type": "code",
        "outputId": "fe425231-af10-4c7f-c8e3-709878f7254c",
        "colab": {
          "base_uri": "https://localhost:8080/",
          "height": 190
        }
      },
      "source": [
        "iterations = 10\n",
        "worker_iters = 5\n",
        "\n",
        "for a_iter in range(iterations):\n",
        "    \n",
        "    bobs_model = model.copy().send(bob)\n",
        "    alices_model = model.copy().send(alice)\n",
        "\n",
        "    bobs_opt = optim.SGD(params=bobs_model.parameters(),lr=0.1)\n",
        "    alices_opt = optim.SGD(params=alices_model.parameters(),lr=0.1)\n",
        "\n",
        "    for wi in range(worker_iters):\n",
        "\n",
        "        # Train Bob's Model\n",
        "        bobs_opt.zero_grad()\n",
        "        bobs_pred = bobs_model(bobs_data)\n",
        "        bobs_loss = ((bobs_pred - bobs_target)**2).sum()\n",
        "        bobs_loss.backward()\n",
        "\n",
        "        bobs_opt.step()\n",
        "        bobs_loss = bobs_loss.get().data\n",
        "\n",
        "        # Train Alice's Model\n",
        "        alices_opt.zero_grad()\n",
        "        alices_pred = alices_model(alices_data)\n",
        "        alices_loss = ((alices_pred - alices_target)**2).sum()\n",
        "        alices_loss.backward()\n",
        "\n",
        "        alices_opt.step()\n",
        "        alices_loss = alices_loss.get().data\n",
        "    \n",
        "    alices_model.move(secure_worker)\n",
        "    bobs_model.move(secure_worker)\n",
        "    \n",
        "    model.weight.data.set_(((alices_model.weight.data + bobs_model.weight.data) / 2).get())\n",
        "    model.bias.data.set_(((alices_model.bias.data + bobs_model.bias.data) / 2).get())\n",
        "    \n",
        "    print(\"Bob:\" + str(bobs_loss) + \" Alice:\" + str(alices_loss))"
      ],
      "execution_count": 0,
      "outputs": [
        {
          "output_type": "stream",
          "text": [
            "Bob:tensor(0.0697) Alice:tensor(0.0006)\n",
            "Bob:tensor(0.0508) Alice:tensor(4.2326e-05)\n",
            "Bob:tensor(0.0376) Alice:tensor(0.0002)\n",
            "Bob:tensor(0.0281) Alice:tensor(0.0002)\n",
            "Bob:tensor(0.0211) Alice:tensor(0.0002)\n",
            "Bob:tensor(0.0160) Alice:tensor(0.0002)\n",
            "Bob:tensor(0.0121) Alice:tensor(0.0002)\n",
            "Bob:tensor(0.0092) Alice:tensor(0.0001)\n",
            "Bob:tensor(0.0071) Alice:tensor(0.0001)\n",
            "Bob:tensor(0.0054) Alice:tensor(9.1933e-05)\n"
          ],
          "name": "stdout"
        }
      ]
    },
    {
      "cell_type": "markdown",
      "metadata": {
        "id": "CZf-0dkT2VDN",
        "colab_type": "text"
      },
      "source": [
        "## Federated Learning on MNIST using a CNN"
      ]
    },
    {
      "cell_type": "code",
      "metadata": {
        "id": "74v6sn6T2gfZ",
        "colab_type": "code",
        "outputId": "32b3aba9-3c2b-4e78-bdba-f18534741786",
        "colab": {
          "base_uri": "https://localhost:8080/",
          "height": 987
        }
      },
      "source": [
        "! pip install syft"
      ],
      "execution_count": 0,
      "outputs": [
        {
          "output_type": "stream",
          "text": [
            "Collecting syft\n",
            "\u001b[?25l  Downloading https://files.pythonhosted.org/packages/7e/7b/cfcdd344c98f45e7a96ae027fb66a76f12e38412df5f7b513def2f642028/syft-0.1.13a1-py3-none-any.whl (151kB)\n",
            "\u001b[K     |████████████████████████████████| 153kB 30.7MB/s \n",
            "\u001b[?25hCollecting websocket-client (from syft)\n",
            "\u001b[?25l  Downloading https://files.pythonhosted.org/packages/29/19/44753eab1fdb50770ac69605527e8859468f3c0fd7dc5a76dd9c4dbd7906/websocket_client-0.56.0-py2.py3-none-any.whl (200kB)\n",
            "\u001b[K     |████████████████████████████████| 204kB 35.2MB/s \n",
            "\u001b[?25hCollecting zstd (from syft)\n",
            "\u001b[?25l  Downloading https://files.pythonhosted.org/packages/8e/27/1ea8086d37424e83ab692015cc8dd7d5e37cf791e339633a40dc828dfb74/zstd-1.4.0.0.tar.gz (450kB)\n",
            "\u001b[K     |████████████████████████████████| 450kB 27.7MB/s \n",
            "\u001b[?25hRequirement already satisfied: torchvision in /usr/local/lib/python3.6/dist-packages (from syft) (0.2.2.post3)\n",
            "Requirement already satisfied: Flask in /usr/local/lib/python3.6/dist-packages (from syft) (1.0.2)\n",
            "Collecting websockets>=7.0 (from syft)\n",
            "\u001b[?25l  Downloading https://files.pythonhosted.org/packages/43/71/8bfa882b9c502c36e5c9ef6732969533670d2b039cbf95a82ced8f762b80/websockets-7.0-cp36-cp36m-manylinux1_x86_64.whl (63kB)\n",
            "\u001b[K     |████████████████████████████████| 71kB 30.8MB/s \n",
            "\u001b[?25hCollecting flask-socketio (from syft)\n",
            "  Downloading https://files.pythonhosted.org/packages/57/34/30d65fc0d6931cd9d492f6043601e5afe6582722b87971a9c85edc8bcb81/Flask_SocketIO-3.3.2-py2.py3-none-any.whl\n",
            "Requirement already satisfied: msgpack in /usr/local/lib/python3.6/dist-packages (from syft) (0.5.6)\n",
            "Collecting torch==1.0.1 (from syft)\n",
            "\u001b[?25l  Downloading https://files.pythonhosted.org/packages/f7/92/1ae072a56665e36e81046d5fb8a2f39c7728c25c21df1777486c49b179ae/torch-1.0.1-cp36-cp36m-manylinux1_x86_64.whl (560.0MB)\n",
            "\u001b[K     |████████████████████████████████| 560.1MB 28kB/s \n",
            "\u001b[?25hRequirement already satisfied: sklearn in /usr/local/lib/python3.6/dist-packages (from syft) (0.0)\n",
            "Collecting lz4 (from syft)\n",
            "\u001b[?25l  Downloading https://files.pythonhosted.org/packages/83/fe/66da85ed881031de7cf7de9dd38cc98aec8859824c7bcd3e8a88d255f36d/lz4-2.1.6-cp36-cp36m-manylinux1_x86_64.whl (359kB)\n",
            "\u001b[K     |████████████████████████████████| 368kB 44.2MB/s \n",
            "\u001b[?25hRequirement already satisfied: six in /usr/local/lib/python3.6/dist-packages (from websocket-client->syft) (1.12.0)\n",
            "Requirement already satisfied: numpy in /usr/local/lib/python3.6/dist-packages (from torchvision->syft) (1.16.3)\n",
            "Requirement already satisfied: pillow>=4.1.1 in /usr/local/lib/python3.6/dist-packages (from torchvision->syft) (4.3.0)\n",
            "Requirement already satisfied: Jinja2>=2.10 in /usr/local/lib/python3.6/dist-packages (from Flask->syft) (2.10.1)\n",
            "Requirement already satisfied: click>=5.1 in /usr/local/lib/python3.6/dist-packages (from Flask->syft) (7.0)\n",
            "Requirement already satisfied: Werkzeug>=0.14 in /usr/local/lib/python3.6/dist-packages (from Flask->syft) (0.15.2)\n",
            "Requirement already satisfied: itsdangerous>=0.24 in /usr/local/lib/python3.6/dist-packages (from Flask->syft) (1.1.0)\n",
            "Collecting python-socketio<4,>=2.1.0 (from flask-socketio->syft)\n",
            "\u001b[?25l  Downloading https://files.pythonhosted.org/packages/b5/db/dc823aa0b3397e52ebe8bba62ee39d6b9a088377809bc230d3ad2e5d2448/python_socketio-3.1.2-py2.py3-none-any.whl (43kB)\n",
            "\u001b[K     |████████████████████████████████| 51kB 19.7MB/s \n",
            "\u001b[?25hRequirement already satisfied: scikit-learn in /usr/local/lib/python3.6/dist-packages (from sklearn->syft) (0.20.3)\n",
            "Requirement already satisfied: olefile in /usr/local/lib/python3.6/dist-packages (from pillow>=4.1.1->torchvision->syft) (0.46)\n",
            "Requirement already satisfied: MarkupSafe>=0.23 in /usr/local/lib/python3.6/dist-packages (from Jinja2>=2.10->Flask->syft) (1.1.1)\n",
            "Collecting python-engineio>=3.2.0 (from python-socketio<4,>=2.1.0->flask-socketio->syft)\n",
            "\u001b[?25l  Downloading https://files.pythonhosted.org/packages/66/54/fa0399f7870b7c5ebedbf4e36197dd006551945d305538a83f724c639c51/python_engineio-3.5.1-py2.py3-none-any.whl (116kB)\n",
            "\u001b[K     |████████████████████████████████| 122kB 51.0MB/s \n",
            "\u001b[?25hRequirement already satisfied: scipy>=0.13.3 in /usr/local/lib/python3.6/dist-packages (from scikit-learn->sklearn->syft) (1.2.1)\n",
            "Building wheels for collected packages: zstd\n",
            "  Building wheel for zstd (setup.py) ... \u001b[?25l\u001b[?25hdone\n",
            "  Stored in directory: /root/.cache/pip/wheels/ad/9a/f4/3105b5209674ac77fcca7fede95184c62a95df0196888e0e76\n",
            "Successfully built zstd\n",
            "Installing collected packages: websocket-client, zstd, websockets, python-engineio, python-socketio, flask-socketio, torch, lz4, syft\n",
            "  Found existing installation: torch 1.1.0\n",
            "    Uninstalling torch-1.1.0:\n",
            "      Successfully uninstalled torch-1.1.0\n",
            "Successfully installed flask-socketio-3.3.2 lz4-2.1.6 python-engineio-3.5.1 python-socketio-3.1.2 syft-0.1.13a1 torch-1.0.1 websocket-client-0.56.0 websockets-7.0 zstd-1.4.0.0\n"
          ],
          "name": "stdout"
        },
        {
          "output_type": "display_data",
          "data": {
            "application/vnd.colab-display-data+json": {
              "pip_warning": {
                "packages": [
                  "torch"
                ]
              }
            }
          },
          "metadata": {
            "tags": []
          }
        }
      ]
    },
    {
      "cell_type": "code",
      "metadata": {
        "id": "kItZRQfJ2YH9",
        "colab_type": "code",
        "colab": {}
      },
      "source": [
        "import torch\n",
        "import torch.nn as nn\n",
        "import torch.nn.functional as F\n",
        "import torch.optim as optim\n",
        "from torchvision import datasets, transforms"
      ],
      "execution_count": 0,
      "outputs": []
    },
    {
      "cell_type": "code",
      "metadata": {
        "id": "VBZgJaDr2YEK",
        "colab_type": "code",
        "outputId": "c638f56f-2814-4fac-cff4-89f468a49046",
        "colab": {
          "base_uri": "https://localhost:8080/",
          "height": 35
        }
      },
      "source": [
        "import syft as sy  # <-- NEW: import the Pysyft library\n",
        "hook = sy.TorchHook(torch)  # <-- NEW: hook PyTorch ie add extra functionalities to support Federated Learning\n",
        "bob = sy.VirtualWorker(hook, id=\"bob\")  # <-- NEW: define remote worker bob\n",
        "alice = sy.VirtualWorker(hook, id=\"alice\")  # <-- NEW: and alice"
      ],
      "execution_count": 0,
      "outputs": [
        {
          "output_type": "stream",
          "text": [
            "WARNING:root:Torch was already hooked... skipping hooking process\n"
          ],
          "name": "stderr"
        }
      ]
    },
    {
      "cell_type": "code",
      "metadata": {
        "id": "WNIg0UD72X_6",
        "colab_type": "code",
        "colab": {}
      },
      "source": [
        "class Arguments():\n",
        "    def __init__(self):\n",
        "        self.batch_size = 64\n",
        "        self.test_batch_size = 1000\n",
        "        self.epochs = 10\n",
        "        self.lr = 0.01\n",
        "        self.momentum = 0.5\n",
        "        self.no_cuda = False\n",
        "        self.seed = 1\n",
        "        self.log_interval = 30\n",
        "        self.save_model = False\n",
        "\n",
        "args = Arguments()\n",
        "\n",
        "use_cuda = not args.no_cuda and torch.cuda.is_available()\n",
        "\n",
        "torch.manual_seed(args.seed)\n",
        "\n",
        "#device = torch.device(\"cuda\" if use_cuda else \"cpu\")\n",
        "device = torch.device(\"cpu\")\n",
        "kwargs = {'num_workers': 1, 'pin_memory': True} if use_cuda else {}"
      ],
      "execution_count": 0,
      "outputs": []
    },
    {
      "cell_type": "code",
      "metadata": {
        "id": "T0k1I7D843G1",
        "colab_type": "code",
        "outputId": "e438318d-9e9a-4a87-ef08-b6dae402cf71",
        "colab": {
          "base_uri": "https://localhost:8080/",
          "height": 35
        }
      },
      "source": [
        "device"
      ],
      "execution_count": 0,
      "outputs": [
        {
          "output_type": "execute_result",
          "data": {
            "text/plain": [
              "device(type='cpu')"
            ]
          },
          "metadata": {
            "tags": []
          },
          "execution_count": 26
        }
      ]
    },
    {
      "cell_type": "code",
      "metadata": {
        "id": "cd4VfX1Rgu2D",
        "colab_type": "code",
        "colab": {
          "base_uri": "https://localhost:8080/",
          "height": 279
        },
        "outputId": "2282e216-89f5-4b1b-9c21-28a2b0066ebd"
      },
      "source": [
        "D = datasets.MNIST('../data', train=True, download=True,\n",
        "                   transform=transforms.Compose([\n",
        "                       transforms.ToTensor(),\n",
        "                       transforms.Normalize((0.1307,), (0.3081,))\n",
        "                   ]))"
      ],
      "execution_count": 2,
      "outputs": [
        {
          "output_type": "stream",
          "text": [
            "\r0it [00:00, ?it/s]"
          ],
          "name": "stderr"
        },
        {
          "output_type": "stream",
          "text": [
            "Downloading http://yann.lecun.com/exdb/mnist/train-images-idx3-ubyte.gz to ../data/MNIST/raw/train-images-idx3-ubyte.gz\n"
          ],
          "name": "stdout"
        },
        {
          "output_type": "stream",
          "text": [
            "9920512it [00:01, 8243483.64it/s]                            \n"
          ],
          "name": "stderr"
        },
        {
          "output_type": "stream",
          "text": [
            "Extracting ../data/MNIST/raw/train-images-idx3-ubyte.gz\n"
          ],
          "name": "stdout"
        },
        {
          "output_type": "stream",
          "text": [
            "  0%|          | 0/28881 [00:00<?, ?it/s]"
          ],
          "name": "stderr"
        },
        {
          "output_type": "stream",
          "text": [
            "Downloading http://yann.lecun.com/exdb/mnist/train-labels-idx1-ubyte.gz to ../data/MNIST/raw/train-labels-idx1-ubyte.gz\n"
          ],
          "name": "stdout"
        },
        {
          "output_type": "stream",
          "text": [
            "32768it [00:00, 135517.18it/s]           \n",
            "  0%|          | 0/1648877 [00:00<?, ?it/s]"
          ],
          "name": "stderr"
        },
        {
          "output_type": "stream",
          "text": [
            "Extracting ../data/MNIST/raw/train-labels-idx1-ubyte.gz\n",
            "Downloading http://yann.lecun.com/exdb/mnist/t10k-images-idx3-ubyte.gz to ../data/MNIST/raw/t10k-images-idx3-ubyte.gz\n"
          ],
          "name": "stdout"
        },
        {
          "output_type": "stream",
          "text": [
            "1654784it [00:00, 2222132.02it/s]                            \n",
            "0it [00:00, ?it/s]"
          ],
          "name": "stderr"
        },
        {
          "output_type": "stream",
          "text": [
            "Extracting ../data/MNIST/raw/t10k-images-idx3-ubyte.gz\n",
            "Downloading http://yann.lecun.com/exdb/mnist/t10k-labels-idx1-ubyte.gz to ../data/MNIST/raw/t10k-labels-idx1-ubyte.gz\n"
          ],
          "name": "stdout"
        },
        {
          "output_type": "stream",
          "text": [
            "8192it [00:00, 51890.78it/s]            \n"
          ],
          "name": "stderr"
        },
        {
          "output_type": "stream",
          "text": [
            "Extracting ../data/MNIST/raw/t10k-labels-idx1-ubyte.gz\n",
            "Processing...\n",
            "Done!\n"
          ],
          "name": "stdout"
        }
      ]
    },
    {
      "cell_type": "code",
      "metadata": {
        "id": "NRIQQJ_hg2Sz",
        "colab_type": "code",
        "colab": {
          "base_uri": "https://localhost:8080/",
          "height": 35
        },
        "outputId": "91d2e803-5b46-4840-b45e-cb44fa9891d2"
      },
      "source": [
        "D[0][0].size()"
      ],
      "execution_count": 9,
      "outputs": [
        {
          "output_type": "execute_result",
          "data": {
            "text/plain": [
              "torch.Size([1, 28, 28])"
            ]
          },
          "metadata": {
            "tags": []
          },
          "execution_count": 9
        }
      ]
    },
    {
      "cell_type": "code",
      "metadata": {
        "id": "PU3mjgPV2X71",
        "colab_type": "code",
        "outputId": "41d5e479-bad5-4e39-875b-3b0f663ff711",
        "colab": {
          "base_uri": "https://localhost:8080/",
          "height": 35
        }
      },
      "source": [
        "federated_train_loader = sy.FederatedDataLoader( # <-- this is now a FederatedDataLoader \n",
        "    datasets.MNIST('../data', train=True, download=True,\n",
        "                   transform=transforms.Compose([\n",
        "                       transforms.ToTensor(),\n",
        "                       transforms.Normalize((0.1307,), (0.3081,))\n",
        "                   ]))\n",
        "    .federate((bob, alice)), # <-- NEW: we distribute the dataset across all the workers, it's now a FederatedDataset\n",
        "    batch_size=args.batch_size, shuffle=True, **kwargs)\n",
        "\n",
        "test_loader = torch.utils.data.DataLoader(\n",
        "    datasets.MNIST('../data', train=False, transform=transforms.Compose([\n",
        "                       transforms.ToTensor(),\n",
        "                       transforms.Normalize((0.1307,), (0.3081,))\n",
        "                   ])),\n",
        "    batch_size=args.test_batch_size, shuffle=True, **kwargs)"
      ],
      "execution_count": 0,
      "outputs": [
        {
          "output_type": "stream",
          "text": [
            "WARNING:root:The following options are not supported: num_workers: 1, pin_memory: True\n"
          ],
          "name": "stderr"
        }
      ]
    },
    {
      "cell_type": "code",
      "metadata": {
        "id": "WZKw3tij2X3i",
        "colab_type": "code",
        "colab": {}
      },
      "source": [
        "class Net(nn.Module):\n",
        "    def __init__(self):\n",
        "        super(Net, self).__init__()\n",
        "        self.conv1 = nn.Conv2d(1, 20, 5, 1)\n",
        "        self.conv2 = nn.Conv2d(20, 50, 5, 1)\n",
        "        self.fc1 = nn.Linear(4*4*50, 500)\n",
        "        self.fc2 = nn.Linear(500, 10)\n",
        "\n",
        "    def forward(self, x):\n",
        "        x = F.relu(self.conv1(x))\n",
        "        x = F.max_pool2d(x, 2, 2)\n",
        "        x = F.relu(self.conv2(x))\n",
        "        x = F.max_pool2d(x, 2, 2)\n",
        "        x = x.view(-1, 4*4*50)\n",
        "        x = F.relu(self.fc1(x))\n",
        "        x = self.fc2(x)\n",
        "        return F.log_softmax(x, dim=1)"
      ],
      "execution_count": 0,
      "outputs": []
    },
    {
      "cell_type": "code",
      "metadata": {
        "id": "rhoKenqn2XzC",
        "colab_type": "code",
        "colab": {}
      },
      "source": [
        "def train(args, model, device, federated_train_loader, optimizer, epoch):\n",
        "    model.train()\n",
        "    for batch_idx, (data, target) in enumerate(federated_train_loader): # <-- now it is a distributed dataset\n",
        "        model.send(data.location) # <-- NEW: send the model to the right location\n",
        "        data, target = data.to(device), target.to(device)\n",
        "        optimizer.zero_grad()\n",
        "        output = model(data)\n",
        "        loss = F.nll_loss(output, target)\n",
        "        loss.backward()\n",
        "        optimizer.step()\n",
        "        model.get() # <-- NEW: get the model back\n",
        "        if batch_idx % args.log_interval == 0:\n",
        "            loss = loss.get() # <-- NEW: get the loss back\n",
        "            print('Train Epoch: {} [{}/{} ({:.0f}%)]\\tLoss: {:.6f}'.format(\n",
        "                epoch, batch_idx * args.batch_size, len(federated_train_loader) * args.batch_size,\n",
        "                100. * batch_idx / len(federated_train_loader), loss.item()))"
      ],
      "execution_count": 0,
      "outputs": []
    },
    {
      "cell_type": "code",
      "metadata": {
        "id": "Eid-j1K02vCZ",
        "colab_type": "code",
        "colab": {}
      },
      "source": [
        "def test(args, model, device, test_loader):\n",
        "    model.eval()\n",
        "    test_loss = 0\n",
        "    correct = 0\n",
        "    with torch.no_grad():\n",
        "        for data, target in test_loader:\n",
        "            data, target = data.to(device), target.to(device)\n",
        "            output = model(data)\n",
        "            test_loss += F.nll_loss(output, target, reduction='sum').item() # sum up batch loss\n",
        "            pred = output.argmax(1, keepdim=True) # get the index of the max log-probability \n",
        "            correct += pred.eq(target.view_as(pred)).sum().item()\n",
        "\n",
        "    test_loss /= len(test_loader.dataset)\n",
        "\n",
        "    print('\\nTest set: Average loss: {:.4f}, Accuracy: {}/{} ({:.0f}%)\\n'.format(\n",
        "        test_loss, correct, len(test_loader.dataset),\n",
        "        100. * correct / len(test_loader.dataset)))"
      ],
      "execution_count": 0,
      "outputs": []
    },
    {
      "cell_type": "code",
      "metadata": {
        "id": "EFdB4IrI2vIF",
        "colab_type": "code",
        "outputId": "aefac2c5-1336-4f36-c623-89167acafa34",
        "colab": {
          "base_uri": "https://localhost:8080/",
          "height": 399
        }
      },
      "source": [
        "%%time\n",
        "model = Net().to(device)\n",
        "optimizer = optim.SGD(model.parameters(), lr=args.lr) # TODO momentum is not supported at the moment\n",
        "\n",
        "for epoch in range(1, args.epochs + 1):\n",
        "    train(args, model, device, federated_train_loader, optimizer, epoch)\n",
        "    test(args, model, device, test_loader)\n",
        "\n",
        "if (args.save_model):\n",
        "    torch.save(model.state_dict(), \"mnist_cnn.pt\")"
      ],
      "execution_count": 0,
      "outputs": [
        {
          "output_type": "error",
          "ename": "RuntimeError",
          "evalue": "ignored",
          "traceback": [
            "\u001b[0;31m---------------------------------------------------------------------------\u001b[0m",
            "\u001b[0;31mRuntimeError\u001b[0m                              Traceback (most recent call last)",
            "\u001b[0;32m<ipython-input-31-8238e4a3eef9>\u001b[0m in \u001b[0;36m<module>\u001b[0;34m()\u001b[0m\n\u001b[0;32m----> 1\u001b[0;31m \u001b[0mget_ipython\u001b[0m\u001b[0;34m(\u001b[0m\u001b[0;34m)\u001b[0m\u001b[0;34m.\u001b[0m\u001b[0mrun_cell_magic\u001b[0m\u001b[0;34m(\u001b[0m\u001b[0;34m'time'\u001b[0m\u001b[0;34m,\u001b[0m \u001b[0;34m''\u001b[0m\u001b[0;34m,\u001b[0m \u001b[0;34m'model = Net().to(device)\\noptimizer = optim.SGD(model.parameters(), lr=args.lr) # TODO momentum is not supported at the moment\\n\\nfor epoch in range(1, args.epochs + 1):\\n    train(args, model, device, federated_train_loader, optimizer, epoch)\\n    test(args, model, device, test_loader)\\n\\nif (args.save_model):\\n    torch.save(model.state_dict(), \"mnist_cnn.pt\")'\u001b[0m\u001b[0;34m)\u001b[0m\u001b[0;34m\u001b[0m\u001b[0;34m\u001b[0m\u001b[0m\n\u001b[0m",
            "\u001b[0;32m/usr/local/lib/python3.6/dist-packages/IPython/core/interactiveshell.py\u001b[0m in \u001b[0;36mrun_cell_magic\u001b[0;34m(self, magic_name, line, cell)\u001b[0m\n\u001b[1;32m   2115\u001b[0m             \u001b[0mmagic_arg_s\u001b[0m \u001b[0;34m=\u001b[0m \u001b[0mself\u001b[0m\u001b[0;34m.\u001b[0m\u001b[0mvar_expand\u001b[0m\u001b[0;34m(\u001b[0m\u001b[0mline\u001b[0m\u001b[0;34m,\u001b[0m \u001b[0mstack_depth\u001b[0m\u001b[0;34m)\u001b[0m\u001b[0;34m\u001b[0m\u001b[0;34m\u001b[0m\u001b[0m\n\u001b[1;32m   2116\u001b[0m             \u001b[0;32mwith\u001b[0m \u001b[0mself\u001b[0m\u001b[0;34m.\u001b[0m\u001b[0mbuiltin_trap\u001b[0m\u001b[0;34m:\u001b[0m\u001b[0;34m\u001b[0m\u001b[0;34m\u001b[0m\u001b[0m\n\u001b[0;32m-> 2117\u001b[0;31m                 \u001b[0mresult\u001b[0m \u001b[0;34m=\u001b[0m \u001b[0mfn\u001b[0m\u001b[0;34m(\u001b[0m\u001b[0mmagic_arg_s\u001b[0m\u001b[0;34m,\u001b[0m \u001b[0mcell\u001b[0m\u001b[0;34m)\u001b[0m\u001b[0;34m\u001b[0m\u001b[0;34m\u001b[0m\u001b[0m\n\u001b[0m\u001b[1;32m   2118\u001b[0m             \u001b[0;32mreturn\u001b[0m \u001b[0mresult\u001b[0m\u001b[0;34m\u001b[0m\u001b[0;34m\u001b[0m\u001b[0m\n\u001b[1;32m   2119\u001b[0m \u001b[0;34m\u001b[0m\u001b[0m\n",
            "\u001b[0;32m</usr/local/lib/python3.6/dist-packages/decorator.py:decorator-gen-60>\u001b[0m in \u001b[0;36mtime\u001b[0;34m(self, line, cell, local_ns)\u001b[0m\n",
            "\u001b[0;32m/usr/local/lib/python3.6/dist-packages/IPython/core/magic.py\u001b[0m in \u001b[0;36m<lambda>\u001b[0;34m(f, *a, **k)\u001b[0m\n\u001b[1;32m    186\u001b[0m     \u001b[0;31m# but it's overkill for just that one bit of state.\u001b[0m\u001b[0;34m\u001b[0m\u001b[0;34m\u001b[0m\u001b[0;34m\u001b[0m\u001b[0m\n\u001b[1;32m    187\u001b[0m     \u001b[0;32mdef\u001b[0m \u001b[0mmagic_deco\u001b[0m\u001b[0;34m(\u001b[0m\u001b[0marg\u001b[0m\u001b[0;34m)\u001b[0m\u001b[0;34m:\u001b[0m\u001b[0;34m\u001b[0m\u001b[0;34m\u001b[0m\u001b[0m\n\u001b[0;32m--> 188\u001b[0;31m         \u001b[0mcall\u001b[0m \u001b[0;34m=\u001b[0m \u001b[0;32mlambda\u001b[0m \u001b[0mf\u001b[0m\u001b[0;34m,\u001b[0m \u001b[0;34m*\u001b[0m\u001b[0ma\u001b[0m\u001b[0;34m,\u001b[0m \u001b[0;34m**\u001b[0m\u001b[0mk\u001b[0m\u001b[0;34m:\u001b[0m \u001b[0mf\u001b[0m\u001b[0;34m(\u001b[0m\u001b[0;34m*\u001b[0m\u001b[0ma\u001b[0m\u001b[0;34m,\u001b[0m \u001b[0;34m**\u001b[0m\u001b[0mk\u001b[0m\u001b[0;34m)\u001b[0m\u001b[0;34m\u001b[0m\u001b[0;34m\u001b[0m\u001b[0m\n\u001b[0m\u001b[1;32m    189\u001b[0m \u001b[0;34m\u001b[0m\u001b[0m\n\u001b[1;32m    190\u001b[0m         \u001b[0;32mif\u001b[0m \u001b[0mcallable\u001b[0m\u001b[0;34m(\u001b[0m\u001b[0marg\u001b[0m\u001b[0;34m)\u001b[0m\u001b[0;34m:\u001b[0m\u001b[0;34m\u001b[0m\u001b[0;34m\u001b[0m\u001b[0m\n",
            "\u001b[0;32m/usr/local/lib/python3.6/dist-packages/IPython/core/magics/execution.py\u001b[0m in \u001b[0;36mtime\u001b[0;34m(self, line, cell, local_ns)\u001b[0m\n\u001b[1;32m   1191\u001b[0m         \u001b[0;32melse\u001b[0m\u001b[0;34m:\u001b[0m\u001b[0;34m\u001b[0m\u001b[0;34m\u001b[0m\u001b[0m\n\u001b[1;32m   1192\u001b[0m             \u001b[0mst\u001b[0m \u001b[0;34m=\u001b[0m \u001b[0mclock2\u001b[0m\u001b[0;34m(\u001b[0m\u001b[0;34m)\u001b[0m\u001b[0;34m\u001b[0m\u001b[0;34m\u001b[0m\u001b[0m\n\u001b[0;32m-> 1193\u001b[0;31m             \u001b[0mexec\u001b[0m\u001b[0;34m(\u001b[0m\u001b[0mcode\u001b[0m\u001b[0;34m,\u001b[0m \u001b[0mglob\u001b[0m\u001b[0;34m,\u001b[0m \u001b[0mlocal_ns\u001b[0m\u001b[0;34m)\u001b[0m\u001b[0;34m\u001b[0m\u001b[0;34m\u001b[0m\u001b[0m\n\u001b[0m\u001b[1;32m   1194\u001b[0m             \u001b[0mend\u001b[0m \u001b[0;34m=\u001b[0m \u001b[0mclock2\u001b[0m\u001b[0;34m(\u001b[0m\u001b[0;34m)\u001b[0m\u001b[0;34m\u001b[0m\u001b[0;34m\u001b[0m\u001b[0m\n\u001b[1;32m   1195\u001b[0m             \u001b[0mout\u001b[0m \u001b[0;34m=\u001b[0m \u001b[0;32mNone\u001b[0m\u001b[0;34m\u001b[0m\u001b[0;34m\u001b[0m\u001b[0m\n",
            "\u001b[0;32m<timed exec>\u001b[0m in \u001b[0;36m<module>\u001b[0;34m()\u001b[0m\n",
            "\u001b[0;32m/usr/local/lib/python3.6/dist-packages/torch/nn/modules/module.py\u001b[0m in \u001b[0;36mto\u001b[0;34m(self, *args, **kwargs)\u001b[0m\n\u001b[1;32m    384\u001b[0m         r\"\"\"Registers a backward hook on the module.\n\u001b[1;32m    385\u001b[0m \u001b[0;34m\u001b[0m\u001b[0m\n\u001b[0;32m--> 386\u001b[0;31m         \u001b[0mThe\u001b[0m \u001b[0mhook\u001b[0m \u001b[0mwill\u001b[0m \u001b[0mbe\u001b[0m \u001b[0mcalled\u001b[0m \u001b[0mevery\u001b[0m \u001b[0mtime\u001b[0m \u001b[0mthe\u001b[0m \u001b[0mgradients\u001b[0m \u001b[0;32mwith\u001b[0m \u001b[0mrespect\u001b[0m \u001b[0mto\u001b[0m \u001b[0mmodule\u001b[0m\u001b[0;34m\u001b[0m\u001b[0;34m\u001b[0m\u001b[0m\n\u001b[0m\u001b[1;32m    387\u001b[0m         \u001b[0minputs\u001b[0m \u001b[0mare\u001b[0m \u001b[0mcomputed\u001b[0m\u001b[0;34m.\u001b[0m \u001b[0mThe\u001b[0m \u001b[0mhook\u001b[0m \u001b[0mshould\u001b[0m \u001b[0mhave\u001b[0m \u001b[0mthe\u001b[0m \u001b[0mfollowing\u001b[0m \u001b[0msignature\u001b[0m\u001b[0;34m:\u001b[0m\u001b[0;34m:\u001b[0m\u001b[0;34m\u001b[0m\u001b[0;34m\u001b[0m\u001b[0m\n\u001b[1;32m    388\u001b[0m \u001b[0;34m\u001b[0m\u001b[0m\n",
            "\u001b[0;32m/usr/local/lib/python3.6/dist-packages/torch/nn/modules/module.py\u001b[0m in \u001b[0;36m_apply\u001b[0;34m(self, fn)\u001b[0m\n\u001b[1;32m    191\u001b[0m                 \u001b[0;31m# Tensors stored in modules are graph leaves, and we don't\u001b[0m\u001b[0;34m\u001b[0m\u001b[0;34m\u001b[0m\u001b[0;34m\u001b[0m\u001b[0m\n\u001b[1;32m    192\u001b[0m                 \u001b[0;31m# want to create copy nodes, so we have to unpack the data.\u001b[0m\u001b[0;34m\u001b[0m\u001b[0;34m\u001b[0m\u001b[0;34m\u001b[0m\u001b[0m\n\u001b[0;32m--> 193\u001b[0;31m                 \u001b[0mparam\u001b[0m\u001b[0;34m.\u001b[0m\u001b[0mdata\u001b[0m \u001b[0;34m=\u001b[0m \u001b[0mfn\u001b[0m\u001b[0;34m(\u001b[0m\u001b[0mparam\u001b[0m\u001b[0;34m.\u001b[0m\u001b[0mdata\u001b[0m\u001b[0;34m)\u001b[0m\u001b[0;34m\u001b[0m\u001b[0;34m\u001b[0m\u001b[0m\n\u001b[0m\u001b[1;32m    194\u001b[0m                 \u001b[0;32mif\u001b[0m \u001b[0mparam\u001b[0m\u001b[0;34m.\u001b[0m\u001b[0m_grad\u001b[0m \u001b[0;32mis\u001b[0m \u001b[0;32mnot\u001b[0m \u001b[0;32mNone\u001b[0m\u001b[0;34m:\u001b[0m\u001b[0;34m\u001b[0m\u001b[0;34m\u001b[0m\u001b[0m\n\u001b[1;32m    195\u001b[0m                     \u001b[0mparam\u001b[0m\u001b[0;34m.\u001b[0m\u001b[0m_grad\u001b[0m\u001b[0;34m.\u001b[0m\u001b[0mdata\u001b[0m \u001b[0;34m=\u001b[0m \u001b[0mfn\u001b[0m\u001b[0;34m(\u001b[0m\u001b[0mparam\u001b[0m\u001b[0;34m.\u001b[0m\u001b[0m_grad\u001b[0m\u001b[0;34m.\u001b[0m\u001b[0mdata\u001b[0m\u001b[0;34m)\u001b[0m\u001b[0;34m\u001b[0m\u001b[0;34m\u001b[0m\u001b[0m\n",
            "\u001b[0;32m/usr/local/lib/python3.6/dist-packages/torch/nn/modules/module.py\u001b[0m in \u001b[0;36m_apply\u001b[0;34m(self, fn)\u001b[0m\n\u001b[1;32m    197\u001b[0m         \u001b[0;32mfor\u001b[0m \u001b[0mkey\u001b[0m\u001b[0;34m,\u001b[0m \u001b[0mbuf\u001b[0m \u001b[0;32min\u001b[0m \u001b[0mself\u001b[0m\u001b[0;34m.\u001b[0m\u001b[0m_buffers\u001b[0m\u001b[0;34m.\u001b[0m\u001b[0mitems\u001b[0m\u001b[0;34m(\u001b[0m\u001b[0;34m)\u001b[0m\u001b[0;34m:\u001b[0m\u001b[0;34m\u001b[0m\u001b[0;34m\u001b[0m\u001b[0m\n\u001b[1;32m    198\u001b[0m             \u001b[0;32mif\u001b[0m \u001b[0mbuf\u001b[0m \u001b[0;32mis\u001b[0m \u001b[0;32mnot\u001b[0m \u001b[0;32mNone\u001b[0m\u001b[0;34m:\u001b[0m\u001b[0;34m\u001b[0m\u001b[0;34m\u001b[0m\u001b[0m\n\u001b[0;32m--> 199\u001b[0;31m                 \u001b[0mself\u001b[0m\u001b[0;34m.\u001b[0m\u001b[0m_buffers\u001b[0m\u001b[0;34m[\u001b[0m\u001b[0mkey\u001b[0m\u001b[0;34m]\u001b[0m \u001b[0;34m=\u001b[0m \u001b[0mfn\u001b[0m\u001b[0;34m(\u001b[0m\u001b[0mbuf\u001b[0m\u001b[0;34m)\u001b[0m\u001b[0;34m\u001b[0m\u001b[0;34m\u001b[0m\u001b[0m\n\u001b[0m\u001b[1;32m    200\u001b[0m \u001b[0;34m\u001b[0m\u001b[0m\n\u001b[1;32m    201\u001b[0m         \u001b[0;32mreturn\u001b[0m \u001b[0mself\u001b[0m\u001b[0;34m\u001b[0m\u001b[0;34m\u001b[0m\u001b[0m\n",
            "\u001b[0;32m/usr/local/lib/python3.6/dist-packages/syft/frameworks/torch/hook.py\u001b[0m in \u001b[0;36mdata\u001b[0;34m(self, new_data)\u001b[0m\n\u001b[1;32m    354\u001b[0m                     \u001b[0;32mdel\u001b[0m \u001b[0mself\u001b[0m\u001b[0;34m.\u001b[0m\u001b[0mchild\u001b[0m\u001b[0;34m\u001b[0m\u001b[0;34m\u001b[0m\u001b[0m\n\u001b[1;32m    355\u001b[0m \u001b[0;34m\u001b[0m\u001b[0m\n\u001b[0;32m--> 356\u001b[0;31m                 \u001b[0mself\u001b[0m\u001b[0;34m.\u001b[0m\u001b[0mnative_param_data\u001b[0m\u001b[0;34m.\u001b[0m\u001b[0mset_\u001b[0m\u001b[0;34m(\u001b[0m\u001b[0mnew_data\u001b[0m\u001b[0;34m)\u001b[0m  \u001b[0;31m# .wrap()\u001b[0m\u001b[0;34m\u001b[0m\u001b[0;34m\u001b[0m\u001b[0m\n\u001b[0m\u001b[1;32m    357\u001b[0m             \u001b[0;32mreturn\u001b[0m \u001b[0mself\u001b[0m\u001b[0;34m\u001b[0m\u001b[0;34m\u001b[0m\u001b[0m\n\u001b[1;32m    358\u001b[0m \u001b[0;34m\u001b[0m\u001b[0m\n",
            "\u001b[0;31mRuntimeError\u001b[0m: set_storage_offset is not allowed on Tensor created from .data or .detach()"
          ]
        }
      ]
    },
    {
      "cell_type": "markdown",
      "metadata": {
        "id": "UBbTPBvU5AGT",
        "colab_type": "text"
      },
      "source": [
        "## Tests"
      ]
    },
    {
      "cell_type": "code",
      "metadata": {
        "id": "Ld9ACrcHWBgS",
        "colab_type": "code",
        "colab": {}
      },
      "source": [
        "x = torch.tensor([1.,2.,1.,3.])"
      ],
      "execution_count": 0,
      "outputs": []
    },
    {
      "cell_type": "code",
      "metadata": {
        "id": "Y5db24In0W8n",
        "colab_type": "code",
        "colab": {}
      },
      "source": [
        "hey = sy.VirtualWorker(hook,id=\"hey\")"
      ],
      "execution_count": 0,
      "outputs": []
    },
    {
      "cell_type": "code",
      "metadata": {
        "id": "wUNjyAGF0XEM",
        "colab_type": "code",
        "outputId": "2e6ad257-a7a8-43e5-dae3-8a5beb0aa7bd",
        "colab": {
          "base_uri": "https://localhost:8080/",
          "height": 35
        }
      },
      "source": [
        "hey._objects"
      ],
      "execution_count": 0,
      "outputs": [
        {
          "output_type": "execute_result",
          "data": {
            "text/plain": [
              "{}"
            ]
          },
          "metadata": {
            "tags": []
          },
          "execution_count": 148
        }
      ]
    },
    {
      "cell_type": "code",
      "metadata": {
        "id": "g0Ck4MUQ0XA6",
        "colab_type": "code",
        "outputId": "3fb2186a-0ea0-441b-c778-30ba48bc5edf",
        "colab": {
          "base_uri": "https://localhost:8080/",
          "height": 35
        }
      },
      "source": [
        "x"
      ],
      "execution_count": 0,
      "outputs": [
        {
          "output_type": "execute_result",
          "data": {
            "text/plain": [
              "tensor([1., 2., 1., 3.])"
            ]
          },
          "metadata": {
            "tags": []
          },
          "execution_count": 149
        }
      ]
    },
    {
      "cell_type": "code",
      "metadata": {
        "id": "xtnnIVUK0rQE",
        "colab_type": "code",
        "outputId": "ca7c32f3-11cb-40bd-87da-a3a5606d861a",
        "colab": {
          "base_uri": "https://localhost:8080/",
          "height": 35
        }
      },
      "source": [
        "x.send(hey)"
      ],
      "execution_count": 0,
      "outputs": [
        {
          "output_type": "execute_result",
          "data": {
            "text/plain": [
              "(Wrapper)>[PointerTensor | me:13407371945 -> hey:56027152132]"
            ]
          },
          "metadata": {
            "tags": []
          },
          "execution_count": 150
        }
      ]
    },
    {
      "cell_type": "code",
      "metadata": {
        "id": "4TrBZu0U0trs",
        "colab_type": "code",
        "outputId": "19e4a2a6-54ab-45da-81ae-e20b4813387d",
        "colab": {
          "base_uri": "https://localhost:8080/",
          "height": 35
        }
      },
      "source": [
        "x"
      ],
      "execution_count": 0,
      "outputs": [
        {
          "output_type": "execute_result",
          "data": {
            "text/plain": [
              "tensor([1., 2., 1., 3.])"
            ]
          },
          "metadata": {
            "tags": []
          },
          "execution_count": 151
        }
      ]
    },
    {
      "cell_type": "code",
      "metadata": {
        "id": "Zgo6AJz-0ueF",
        "colab_type": "code",
        "outputId": "4cf70ccc-0a1d-4e9f-bbff-386413cd8618",
        "colab": {
          "base_uri": "https://localhost:8080/",
          "height": 306
        }
      },
      "source": [
        "x.get()"
      ],
      "execution_count": 0,
      "outputs": [
        {
          "output_type": "error",
          "ename": "AttributeError",
          "evalue": "ignored",
          "traceback": [
            "\u001b[0;31m---------------------------------------------------------------------------\u001b[0m",
            "\u001b[0;31mAttributeError\u001b[0m                            Traceback (most recent call last)",
            "\u001b[0;32m<ipython-input-152-0c447e18adc3>\u001b[0m in \u001b[0;36m<module>\u001b[0;34m()\u001b[0m\n\u001b[0;32m----> 1\u001b[0;31m \u001b[0mx\u001b[0m\u001b[0;34m.\u001b[0m\u001b[0mget\u001b[0m\u001b[0;34m(\u001b[0m\u001b[0;34m)\u001b[0m\u001b[0;34m\u001b[0m\u001b[0;34m\u001b[0m\u001b[0m\n\u001b[0m",
            "\u001b[0;32m/usr/local/lib/python3.6/dist-packages/syft/frameworks/torch/tensors/interpreters/native.py\u001b[0m in \u001b[0;36mget\u001b[0;34m(self, inplace, *args, **kwargs)\u001b[0m\n\u001b[1;32m    464\u001b[0m         \u001b[0;31m#                     return self\u001b[0m\u001b[0;34m\u001b[0m\u001b[0;34m\u001b[0m\u001b[0;34m\u001b[0m\u001b[0m\n\u001b[1;32m    465\u001b[0m \u001b[0;34m\u001b[0m\u001b[0m\n\u001b[0;32m--> 466\u001b[0;31m         \u001b[0mtensor\u001b[0m \u001b[0;34m=\u001b[0m \u001b[0mself\u001b[0m\u001b[0;34m.\u001b[0m\u001b[0mchild\u001b[0m\u001b[0;34m.\u001b[0m\u001b[0mget\u001b[0m\u001b[0;34m(\u001b[0m\u001b[0;34m*\u001b[0m\u001b[0margs\u001b[0m\u001b[0;34m,\u001b[0m \u001b[0;34m**\u001b[0m\u001b[0mkwargs\u001b[0m\u001b[0;34m)\u001b[0m\u001b[0;34m\u001b[0m\u001b[0;34m\u001b[0m\u001b[0m\n\u001b[0m\u001b[1;32m    467\u001b[0m \u001b[0;34m\u001b[0m\u001b[0m\n\u001b[1;32m    468\u001b[0m         \u001b[0;31m# Clean the wrapper\u001b[0m\u001b[0;34m\u001b[0m\u001b[0;34m\u001b[0m\u001b[0;34m\u001b[0m\u001b[0m\n",
            "\u001b[0;31mAttributeError\u001b[0m: 'Tensor' object has no attribute 'child'"
          ]
        }
      ]
    },
    {
      "cell_type": "code",
      "metadata": {
        "id": "1mL4qV-s0v5O",
        "colab_type": "code",
        "outputId": "4da8b14d-f9b8-40f4-e94f-8b45e3740dc7",
        "colab": {
          "base_uri": "https://localhost:8080/",
          "height": 35
        }
      },
      "source": [
        "hey._objects"
      ],
      "execution_count": 0,
      "outputs": [
        {
          "output_type": "execute_result",
          "data": {
            "text/plain": [
              "{56027152132: tensor([1., 2., 1., 3.])}"
            ]
          },
          "metadata": {
            "tags": []
          },
          "execution_count": 153
        }
      ]
    },
    {
      "cell_type": "code",
      "metadata": {
        "id": "vW_DY99z0yFz",
        "colab_type": "code",
        "colab": {}
      },
      "source": [
        "x = x.send(hey)"
      ],
      "execution_count": 0,
      "outputs": []
    },
    {
      "cell_type": "code",
      "metadata": {
        "id": "qvUPsi1a04LJ",
        "colab_type": "code",
        "outputId": "330847f8-49f7-4a84-bf98-8effcd14c012",
        "colab": {
          "base_uri": "https://localhost:8080/",
          "height": 35
        }
      },
      "source": [
        "x"
      ],
      "execution_count": 0,
      "outputs": [
        {
          "output_type": "execute_result",
          "data": {
            "text/plain": [
              "(Wrapper)>[PointerTensor | me:88772131240 -> hey:56027152132]"
            ]
          },
          "metadata": {
            "tags": []
          },
          "execution_count": 155
        }
      ]
    },
    {
      "cell_type": "code",
      "metadata": {
        "id": "5ZtnE-_i043g",
        "colab_type": "code",
        "outputId": "33258fe5-e250-4350-a6b7-d4607423d885",
        "colab": {
          "base_uri": "https://localhost:8080/",
          "height": 35
        }
      },
      "source": [
        "hey._objects"
      ],
      "execution_count": 0,
      "outputs": [
        {
          "output_type": "execute_result",
          "data": {
            "text/plain": [
              "{56027152132: tensor([1., 2., 1., 3.])}"
            ]
          },
          "metadata": {
            "tags": []
          },
          "execution_count": 156
        }
      ]
    },
    {
      "cell_type": "code",
      "metadata": {
        "id": "BJZB-ELs06gX",
        "colab_type": "code",
        "colab": {}
      },
      "source": [
        "x=x.get()"
      ],
      "execution_count": 0,
      "outputs": []
    },
    {
      "cell_type": "code",
      "metadata": {
        "id": "WpLYgF8i08Si",
        "colab_type": "code",
        "outputId": "d5d5bd45-f65e-4601-9172-dde1a281e460",
        "colab": {
          "base_uri": "https://localhost:8080/",
          "height": 35
        }
      },
      "source": [
        "x"
      ],
      "execution_count": 0,
      "outputs": [
        {
          "output_type": "execute_result",
          "data": {
            "text/plain": [
              "tensor([1., 2., 1., 3.])"
            ]
          },
          "metadata": {
            "tags": []
          },
          "execution_count": 158
        }
      ]
    },
    {
      "cell_type": "code",
      "metadata": {
        "id": "ydHTsm3P087O",
        "colab_type": "code",
        "colab": {}
      },
      "source": [
        "ml = nn.Sequential(nn.Linear(3,2),nn.ReLU())"
      ],
      "execution_count": 0,
      "outputs": []
    },
    {
      "cell_type": "code",
      "metadata": {
        "id": "Kd1PVf391Bhk",
        "colab_type": "code",
        "outputId": "732b525a-ff9b-422b-f3a9-568409796f2f",
        "colab": {
          "base_uri": "https://localhost:8080/",
          "height": 86
        }
      },
      "source": [
        "ml"
      ],
      "execution_count": 0,
      "outputs": [
        {
          "output_type": "execute_result",
          "data": {
            "text/plain": [
              "Sequential(\n",
              "  (0): Linear(in_features=3, out_features=2, bias=True)\n",
              "  (1): ReLU()\n",
              ")"
            ]
          },
          "metadata": {
            "tags": []
          },
          "execution_count": 160
        }
      ]
    },
    {
      "cell_type": "code",
      "metadata": {
        "id": "Fs8b_D-o1Cal",
        "colab_type": "code",
        "colab": {}
      },
      "source": [
        "ml = ml.send(hey)"
      ],
      "execution_count": 0,
      "outputs": []
    },
    {
      "cell_type": "code",
      "metadata": {
        "id": "Owoet0L51Egp",
        "colab_type": "code",
        "outputId": "15770bd3-1eba-45f5-cd7e-3a8dea256e5b",
        "colab": {
          "base_uri": "https://localhost:8080/",
          "height": 86
        }
      },
      "source": [
        "ml"
      ],
      "execution_count": 0,
      "outputs": [
        {
          "output_type": "execute_result",
          "data": {
            "text/plain": [
              "Sequential(\n",
              "  (0): Linear(in_features=3, out_features=2, bias=True)\n",
              "  (1): ReLU()\n",
              ")"
            ]
          },
          "metadata": {
            "tags": []
          },
          "execution_count": 162
        }
      ]
    },
    {
      "cell_type": "code",
      "metadata": {
        "id": "RvtyZZRS1Frs",
        "colab_type": "code",
        "outputId": "971446f9-54b2-4756-c4c4-500d977d3a78",
        "colab": {
          "base_uri": "https://localhost:8080/",
          "height": 104
        }
      },
      "source": [
        "hey._objects"
      ],
      "execution_count": 0,
      "outputs": [
        {
          "output_type": "execute_result",
          "data": {
            "text/plain": [
              "{44922572202: Parameter containing:\n",
              " tensor([[ 0.4500,  0.0126, -0.2453],\n",
              "         [-0.3346,  0.0929, -0.0680]], requires_grad=True),\n",
              " 81399605280: Parameter containing:\n",
              " tensor([-0.1135, -0.0340], requires_grad=True)}"
            ]
          },
          "metadata": {
            "tags": []
          },
          "execution_count": 163
        }
      ]
    },
    {
      "cell_type": "code",
      "metadata": {
        "id": "1T_e-fkG1HYh",
        "colab_type": "code",
        "colab": {}
      },
      "source": [
        "ml = ml.get()"
      ],
      "execution_count": 0,
      "outputs": []
    },
    {
      "cell_type": "code",
      "metadata": {
        "id": "KdGVrIxa1R9a",
        "colab_type": "code",
        "outputId": "186f6466-19b5-452c-a9a0-f681fb3a3062",
        "colab": {
          "base_uri": "https://localhost:8080/",
          "height": 35
        }
      },
      "source": [
        "hey._objects"
      ],
      "execution_count": 0,
      "outputs": [
        {
          "output_type": "execute_result",
          "data": {
            "text/plain": [
              "{}"
            ]
          },
          "metadata": {
            "tags": []
          },
          "execution_count": 165
        }
      ]
    },
    {
      "cell_type": "code",
      "metadata": {
        "id": "Nxhj6Pvk1TWz",
        "colab_type": "code",
        "colab": {}
      },
      "source": [
        "ml=ml.send(bob)"
      ],
      "execution_count": 0,
      "outputs": []
    },
    {
      "cell_type": "code",
      "metadata": {
        "id": "02D2NUdc1Z23",
        "colab_type": "code",
        "colab": {}
      },
      "source": [
        "ml = ml.move(hey)"
      ],
      "execution_count": 0,
      "outputs": []
    },
    {
      "cell_type": "code",
      "metadata": {
        "id": "1llTK-RH1b1m",
        "colab_type": "code",
        "outputId": "fb6bca94-09a7-4c8e-b8cb-6cd83871fc13",
        "colab": {
          "base_uri": "https://localhost:8080/",
          "height": 190
        }
      },
      "source": [
        "hey._objects"
      ],
      "execution_count": 0,
      "outputs": [
        {
          "output_type": "execute_result",
          "data": {
            "text/plain": [
              "{110764493: Parameter containing:\n",
              " tensor([-0.1135, -0.0340], requires_grad=True),\n",
              " 44922572202: Parameter containing:\n",
              " tensor([[ 0.4500,  0.0126, -0.2453],\n",
              "         [-0.3346,  0.0929, -0.0680]], requires_grad=True),\n",
              " 66803002729: Parameter containing:\n",
              " tensor([[ 0.4500,  0.0126, -0.2453],\n",
              "         [-0.3346,  0.0929, -0.0680]], requires_grad=True),\n",
              " 81399605280: Parameter containing:\n",
              " tensor([-0.1135, -0.0340], requires_grad=True)}"
            ]
          },
          "metadata": {
            "tags": []
          },
          "execution_count": 168
        }
      ]
    },
    {
      "cell_type": "code",
      "metadata": {
        "id": "FX-cIyHu1d_O",
        "colab_type": "code",
        "outputId": "7a939f96-a313-4a42-8661-fd2a66e7f514",
        "colab": {
          "base_uri": "https://localhost:8080/",
          "height": 35
        }
      },
      "source": [
        "print(ml)"
      ],
      "execution_count": 0,
      "outputs": [
        {
          "output_type": "stream",
          "text": [
            "None\n"
          ],
          "name": "stdout"
        }
      ]
    },
    {
      "cell_type": "code",
      "metadata": {
        "id": "YDpQmbWf1r7s",
        "colab_type": "code",
        "colab": {}
      },
      "source": [
        "test = sy.VirtualWorker(hook,id=\"test\")"
      ],
      "execution_count": 0,
      "outputs": []
    },
    {
      "cell_type": "code",
      "metadata": {
        "id": "Zv8D6OFz1_g-",
        "colab_type": "code",
        "colab": {}
      },
      "source": [
        "ml = nn.Sequential(nn.Linear(3,2),nn.ReLU())"
      ],
      "execution_count": 0,
      "outputs": []
    },
    {
      "cell_type": "code",
      "metadata": {
        "id": "MQq0Dyp12CY4",
        "colab_type": "code",
        "colab": {}
      },
      "source": [
        "ml = ml.send(hey)"
      ],
      "execution_count": 0,
      "outputs": []
    },
    {
      "cell_type": "code",
      "metadata": {
        "id": "-f8Tvfh-2Q4O",
        "colab_type": "code",
        "colab": {}
      },
      "source": [
        "ml.move(test)"
      ],
      "execution_count": 0,
      "outputs": []
    },
    {
      "cell_type": "code",
      "metadata": {
        "id": "7YVwDm8V2S4c",
        "colab_type": "code",
        "outputId": "751e5f64-5046-462b-800f-a6ff1d06046b",
        "colab": {
          "base_uri": "https://localhost:8080/",
          "height": 190
        }
      },
      "source": [
        "test._objects"
      ],
      "execution_count": 0,
      "outputs": [
        {
          "output_type": "execute_result",
          "data": {
            "text/plain": [
              "{2655579637: Parameter containing:\n",
              " tensor([[-0.4470, -0.4307, -0.0440],\n",
              "         [ 0.0981,  0.0169, -0.3907]], requires_grad=True),\n",
              " 26877253094: Parameter containing:\n",
              " tensor([ 0.3501, -0.0431], requires_grad=True),\n",
              " 40177035808: Parameter containing:\n",
              " tensor([[-0.4470, -0.4307, -0.0440],\n",
              "         [ 0.0981,  0.0169, -0.3907]], requires_grad=True),\n",
              " 56675706551: Parameter containing:\n",
              " tensor([ 0.3501, -0.0431], requires_grad=True)}"
            ]
          },
          "metadata": {
            "tags": []
          },
          "execution_count": 176
        }
      ]
    },
    {
      "cell_type": "code",
      "metadata": {
        "id": "q_4wj0Mg2UDr",
        "colab_type": "code",
        "colab": {}
      },
      "source": [
        "ml = ml.get()"
      ],
      "execution_count": 0,
      "outputs": []
    },
    {
      "cell_type": "code",
      "metadata": {
        "id": "EJd7uPTB2ZZG",
        "colab_type": "code",
        "outputId": "45d355a1-b31c-4a0c-def0-ff394744a7fc",
        "colab": {
          "base_uri": "https://localhost:8080/",
          "height": 86
        }
      },
      "source": [
        "ml"
      ],
      "execution_count": 0,
      "outputs": [
        {
          "output_type": "execute_result",
          "data": {
            "text/plain": [
              "Sequential(\n",
              "  (0): Linear(in_features=3, out_features=2, bias=True)\n",
              "  (1): ReLU()\n",
              ")"
            ]
          },
          "metadata": {
            "tags": []
          },
          "execution_count": 178
        }
      ]
    },
    {
      "cell_type": "code",
      "metadata": {
        "id": "FChn24m-2aIX",
        "colab_type": "code",
        "outputId": "6b07b2c6-0a71-4b88-f60e-7b79b43d54c3",
        "colab": {
          "base_uri": "https://localhost:8080/",
          "height": 104
        }
      },
      "source": [
        "test._objects"
      ],
      "execution_count": 0,
      "outputs": [
        {
          "output_type": "execute_result",
          "data": {
            "text/plain": [
              "{26877253094: Parameter containing:\n",
              " tensor([ 0.3501, -0.0431], requires_grad=True),\n",
              " 40177035808: Parameter containing:\n",
              " tensor([[-0.4470, -0.4307, -0.0440],\n",
              "         [ 0.0981,  0.0169, -0.3907]], requires_grad=True)}"
            ]
          },
          "metadata": {
            "tags": []
          },
          "execution_count": 179
        }
      ]
    },
    {
      "cell_type": "code",
      "metadata": {
        "id": "Hjlfqwsn2euH",
        "colab_type": "code",
        "outputId": "141217f6-e886-4fa4-dfe4-aab232be6902",
        "colab": {
          "base_uri": "https://localhost:8080/",
          "height": 69
        }
      },
      "source": [
        "list(ml.parameters())[0]"
      ],
      "execution_count": 0,
      "outputs": [
        {
          "output_type": "execute_result",
          "data": {
            "text/plain": [
              "Parameter containing:\n",
              "tensor([[-0.4470, -0.4307, -0.0440],\n",
              "        [ 0.0981,  0.0169, -0.3907]], requires_grad=True)"
            ]
          },
          "metadata": {
            "tags": []
          },
          "execution_count": 180
        }
      ]
    },
    {
      "cell_type": "code",
      "metadata": {
        "id": "TNemM8HA2qQL",
        "colab_type": "code",
        "outputId": "c0989d9d-384d-4b6a-d6a7-db95b171b075",
        "colab": {
          "base_uri": "https://localhost:8080/",
          "height": 52
        }
      },
      "source": [
        "list(ml.parameters())[1]"
      ],
      "execution_count": 0,
      "outputs": [
        {
          "output_type": "execute_result",
          "data": {
            "text/plain": [
              "Parameter containing:\n",
              "tensor([ 0.3501, -0.0431], requires_grad=True)"
            ]
          },
          "metadata": {
            "tags": []
          },
          "execution_count": 181
        }
      ]
    },
    {
      "cell_type": "code",
      "metadata": {
        "id": "OrrirMdk2tBC",
        "colab_type": "code",
        "outputId": "9ef1137f-5771-4fab-c54e-ed474c38c8c0",
        "colab": {
          "base_uri": "https://localhost:8080/",
          "height": 86
        }
      },
      "source": [
        "M"
      ],
      "execution_count": 0,
      "outputs": [
        {
          "output_type": "execute_result",
          "data": {
            "text/plain": [
              "Sequential(\n",
              "  (0): Linear(in_features=3, out_features=2, bias=True)\n",
              "  (1): ReLU()\n",
              ")"
            ]
          },
          "metadata": {
            "tags": []
          },
          "execution_count": 186
        }
      ]
    },
    {
      "cell_type": "code",
      "metadata": {
        "id": "9SybOMRq5x5p",
        "colab_type": "code",
        "colab": {}
      },
      "source": [
        "M = M.send(hey)"
      ],
      "execution_count": 0,
      "outputs": []
    },
    {
      "cell_type": "code",
      "metadata": {
        "id": "qe5l55LK50HW",
        "colab_type": "code",
        "colab": {}
      },
      "source": [
        "x = torch.tensor([1.,6.])"
      ],
      "execution_count": 0,
      "outputs": []
    },
    {
      "cell_type": "code",
      "metadata": {
        "id": "rpEZ4aF755et",
        "colab_type": "code",
        "colab": {}
      },
      "source": [
        "x = x.send(hey)"
      ],
      "execution_count": 0,
      "outputs": []
    },
    {
      "cell_type": "code",
      "metadata": {
        "id": "9QIis5SGFnVi",
        "colab_type": "code",
        "colab": {}
      },
      "source": [
        "M = nn.Linear(2,1)"
      ],
      "execution_count": 0,
      "outputs": []
    },
    {
      "cell_type": "code",
      "metadata": {
        "id": "HL74Igum57LN",
        "colab_type": "code",
        "outputId": "b1d5ef8a-d742-415c-9896-c9b8ae100274",
        "colab": {
          "base_uri": "https://localhost:8080/",
          "height": 69
        }
      },
      "source": [
        "list(M.parameters())"
      ],
      "execution_count": 0,
      "outputs": [
        {
          "output_type": "execute_result",
          "data": {
            "text/plain": [
              "[Parameter containing:\n",
              " tensor([[ 0.6992, -0.5301]], requires_grad=True), Parameter containing:\n",
              " tensor([0.5731], requires_grad=True)]"
            ]
          },
          "metadata": {
            "tags": []
          },
          "execution_count": 215
        }
      ]
    },
    {
      "cell_type": "code",
      "metadata": {
        "id": "gSk-PY_T6Oz6",
        "colab_type": "code",
        "colab": {}
      },
      "source": [
        "list(M.parameters())[1].grad = x"
      ],
      "execution_count": 0,
      "outputs": []
    },
    {
      "cell_type": "code",
      "metadata": {
        "id": "Kg5T9Ddq5-4Z",
        "colab_type": "code",
        "outputId": "3bfddbd3-b79c-419c-f282-5fa1d1ab8fbd",
        "colab": {
          "base_uri": "https://localhost:8080/",
          "height": 35
        }
      },
      "source": [
        "print(list(M.parameters())[1].grad)"
      ],
      "execution_count": 0,
      "outputs": [
        {
          "output_type": "stream",
          "text": [
            "None\n"
          ],
          "name": "stdout"
        }
      ]
    },
    {
      "cell_type": "code",
      "metadata": {
        "id": "NiE4FyGF6Mgq",
        "colab_type": "code",
        "colab": {}
      },
      "source": [
        "M = M.send(test)"
      ],
      "execution_count": 0,
      "outputs": []
    },
    {
      "cell_type": "code",
      "metadata": {
        "id": "z0vPiBV8F2Qb",
        "colab_type": "code",
        "colab": {}
      },
      "source": [
        "x = torch.tensor([1.,2.])"
      ],
      "execution_count": 0,
      "outputs": []
    },
    {
      "cell_type": "code",
      "metadata": {
        "id": "uGJDKX5hF7n0",
        "colab_type": "code",
        "colab": {}
      },
      "source": [
        "x = x.send(test)"
      ],
      "execution_count": 0,
      "outputs": []
    },
    {
      "cell_type": "code",
      "metadata": {
        "id": "tzcEMHjY6Zd2",
        "colab_type": "code",
        "outputId": "f34bd488-1b8a-444a-e93f-fda2d5ad85e7",
        "colab": {
          "base_uri": "https://localhost:8080/",
          "height": 35
        }
      },
      "source": [
        "M.weight.data.set_(x)"
      ],
      "execution_count": 0,
      "outputs": [
        {
          "output_type": "execute_result",
          "data": {
            "text/plain": [
              "(Wrapper)>[PointerTensor | me:45097543585 -> test:12798246557]::data"
            ]
          },
          "metadata": {
            "tags": []
          },
          "execution_count": 220
        }
      ]
    },
    {
      "cell_type": "code",
      "metadata": {
        "id": "Q4vRmIcc6vRt",
        "colab_type": "code",
        "outputId": "c6405563-388d-4a67-a497-3ceb8dc1fa96",
        "colab": {
          "base_uri": "https://localhost:8080/",
          "height": 52
        }
      },
      "source": [
        "list(M.parameters())[0].get()"
      ],
      "execution_count": 0,
      "outputs": [
        {
          "output_type": "execute_result",
          "data": {
            "text/plain": [
              "Parameter containing:\n",
              "tensor([[ 0.6992, -0.5301]], requires_grad=True)"
            ]
          },
          "metadata": {
            "tags": []
          },
          "execution_count": 221
        }
      ]
    },
    {
      "cell_type": "code",
      "metadata": {
        "id": "2vUN6Xjw7DEk",
        "colab_type": "code",
        "colab": {}
      },
      "source": [
        ""
      ],
      "execution_count": 0,
      "outputs": []
    },
    {
      "cell_type": "code",
      "metadata": {
        "id": "94MlwXDf5bCM",
        "colab_type": "code",
        "colab": {}
      },
      "source": [
        ""
      ],
      "execution_count": 0,
      "outputs": []
    },
    {
      "cell_type": "code",
      "metadata": {
        "id": "XVtL-Dak5bMg",
        "colab_type": "code",
        "colab": {}
      },
      "source": [
        "net1 = nn.Sequential(nn.Linear(3,2), nn.ReLU())\n",
        "net2 = nn.Linear(2,1)"
      ],
      "execution_count": 0,
      "outputs": []
    },
    {
      "cell_type": "code",
      "metadata": {
        "id": "FJJexpMC5nRh",
        "colab_type": "code",
        "colab": {}
      },
      "source": [
        "data = torch.tensor([[0,0,0],[0,0,1],[1,1,0],[1,0,1.],[1,1,1],[1,0,0],[0,1,0],[0,1,1]], requires_grad=True)\n",
        "target = torch.tensor([[0],[0],[1],[1.],[1],[1],[0],[0]], requires_grad=True)\n",
        "\n",
        "opt1 = optim.SGD(params=net1.parameters(),lr=0.1)\n",
        "opt2 = optim.SGD(params=net2.parameters(),lr=0.1)"
      ],
      "execution_count": 0,
      "outputs": []
    },
    {
      "cell_type": "code",
      "metadata": {
        "id": "RB2pIK3w6C9q",
        "colab_type": "code",
        "colab": {}
      },
      "source": [
        "def train():\n",
        "    # Training Logic\n",
        "    for iter in range(20):\n",
        "\n",
        "        # 1) erase previous gradients (if they exist)\n",
        "        opt1.zero_grad()\n",
        "        opt2.zero_grad()\n",
        "        \n",
        "        # 2) make a prediction\n",
        "        out1 = net1(data)\n",
        "        pred = net2(out1)\n",
        "        #print(pred)\n",
        "        # 3) calculate how much we missed\n",
        "        loss = ((pred - target)**2).sum()\n",
        "\n",
        "        # 4) figure out which weights caused us to miss\n",
        "        loss.backward()\n",
        "\n",
        "        # 5) change those weights\n",
        "        opt1.step()\n",
        "        opt2.step()\n",
        "\n",
        "        # 6) print our progress\n",
        "        print(loss.data)\n"
      ],
      "execution_count": 0,
      "outputs": []
    },
    {
      "cell_type": "code",
      "metadata": {
        "id": "zfNPLowQ5tD_",
        "colab_type": "code",
        "outputId": "8079709f-cb67-49d8-de3a-1aa4c1a1f689",
        "colab": {
          "base_uri": "https://localhost:8080/",
          "height": 363
        }
      },
      "source": [
        "train()"
      ],
      "execution_count": 0,
      "outputs": [
        {
          "output_type": "stream",
          "text": [
            "tensor(8.8212)\n",
            "tensor(54.3115)\n",
            "tensor(120.3988)\n",
            "tensor(44.6236)\n",
            "tensor(17.3445)\n",
            "tensor(7.5240)\n",
            "tensor(3.9886)\n",
            "tensor(2.7159)\n",
            "tensor(2.2577)\n",
            "tensor(2.0928)\n",
            "tensor(2.0334)\n",
            "tensor(2.0120)\n",
            "tensor(2.0043)\n",
            "tensor(2.0016)\n",
            "tensor(2.0006)\n",
            "tensor(2.0002)\n",
            "tensor(2.0001)\n",
            "tensor(2.0000)\n",
            "tensor(2.0000)\n",
            "tensor(2.0000)\n"
          ],
          "name": "stdout"
        }
      ]
    },
    {
      "cell_type": "code",
      "metadata": {
        "id": "gYP7vDXxEXsu",
        "colab_type": "code",
        "colab": {}
      },
      "source": [
        ""
      ],
      "execution_count": 0,
      "outputs": []
    },
    {
      "cell_type": "code",
      "metadata": {
        "id": "bbunq5UK6xOw",
        "colab_type": "code",
        "colab": {}
      },
      "source": [
        "out1 = net1(data)"
      ],
      "execution_count": 0,
      "outputs": []
    },
    {
      "cell_type": "code",
      "metadata": {
        "id": "6cHg33_d7w3t",
        "colab_type": "code",
        "outputId": "feaf604a-6e19-4cd6-dc83-8b7cd7cc6711",
        "colab": {
          "base_uri": "https://localhost:8080/",
          "height": 155
        }
      },
      "source": [
        "out1"
      ],
      "execution_count": 0,
      "outputs": [
        {
          "output_type": "execute_result",
          "data": {
            "text/plain": [
              "tensor([[0.0000, 0.2896],\n",
              "        [0.0695, 0.0939],\n",
              "        [0.0000, 0.2404],\n",
              "        [0.0000, 0.0000],\n",
              "        [0.0000, 0.0446],\n",
              "        [0.0000, 0.1428],\n",
              "        [0.0000, 0.3872],\n",
              "        [0.0000, 0.1915]], grad_fn=<ThresholdBackward0>)"
            ]
          },
          "metadata": {
            "tags": []
          },
          "execution_count": 18
        }
      ]
    },
    {
      "cell_type": "code",
      "metadata": {
        "id": "01NSJnQQ7xjo",
        "colab_type": "code",
        "colab": {}
      },
      "source": [
        "out2 = net2(out1)"
      ],
      "execution_count": 0,
      "outputs": []
    },
    {
      "cell_type": "code",
      "metadata": {
        "id": "wiqg7zzO74p2",
        "colab_type": "code",
        "outputId": "9f27cdc9-21f3-46d1-bbcc-0b6c2c1c23e2",
        "colab": {
          "base_uri": "https://localhost:8080/",
          "height": 155
        }
      },
      "source": [
        "out2"
      ],
      "execution_count": 0,
      "outputs": [
        {
          "output_type": "execute_result",
          "data": {
            "text/plain": [
              "tensor([[-0.5381],\n",
              "        [-0.6299],\n",
              "        [-0.5632],\n",
              "        [-0.6858],\n",
              "        [-0.6630],\n",
              "        [-0.6130],\n",
              "        [-0.4883],\n",
              "        [-0.5881]], grad_fn=<AddmmBackward>)"
            ]
          },
          "metadata": {
            "tags": []
          },
          "execution_count": 21
        }
      ]
    },
    {
      "cell_type": "code",
      "metadata": {
        "id": "bxyEDaS_EmG_",
        "colab_type": "code",
        "colab": {}
      },
      "source": [
        "# A Toy Dataset\n",
        "data = torch.tensor([[0,0],[0,1],[1,0],[1,1.]], requires_grad=True)\n",
        "target = torch.tensor([[0],[0],[1],[1.]], requires_grad=True)\n",
        "\n",
        "# A Toy Model\n",
        "#model = nn.Sequential(nn.Linear(2,3),nn.Linear(3,1))\n",
        "net1 = nn.Linear(2,3)\n",
        "net2 = nn.Linear(3,1)\n",
        "\n",
        "def train():\n",
        "    # Training Logic\n",
        "    opt1 = optim.SGD(params=net1.parameters(),lr=0.1)\n",
        "    opt2 = optim.SGD(params=net2.parameters(),lr=0.1)\n",
        "    for iter in range(20):\n",
        "\n",
        "        # 1) erase previous gradients (if they exist)\n",
        "        opt1.zero_grad()\n",
        "        opt2.zero_grad()\n",
        "        \n",
        "        # 2) make a prediction\n",
        "        out1 = net1(data)\n",
        "        pred = net2(out1)\n",
        "        #print(pred)\n",
        "        # 3) calculate how much we missed\n",
        "        loss = ((pred - target)**2).sum()\n",
        "\n",
        "        # 4) figure out which weights caused us to miss\n",
        "        loss.backward()\n",
        "        \n",
        "        # 5) change those weights\n",
        "        opt1.step()\n",
        "        opt2.step()\n",
        "        # 6) print our progress\n",
        "        print(loss.data)\n",
        "        "
      ],
      "execution_count": 0,
      "outputs": []
    },
    {
      "cell_type": "code",
      "metadata": {
        "id": "0xFkcCXeTWYX",
        "colab_type": "code",
        "outputId": "fc46569f-1971-43eb-e05c-58160932eda3",
        "colab": {
          "base_uri": "https://localhost:8080/",
          "height": 363
        }
      },
      "source": [
        "train()"
      ],
      "execution_count": 0,
      "outputs": [
        {
          "output_type": "stream",
          "text": [
            "tensor(0.9131)\n",
            "tensor(0.7583)\n",
            "tensor(0.6816)\n",
            "tensor(0.6703)\n",
            "tensor(0.8395)\n",
            "tensor(1.1019)\n",
            "tensor(1.8191)\n",
            "tensor(1.5124)\n",
            "tensor(1.4827)\n",
            "tensor(0.4298)\n",
            "tensor(0.2546)\n",
            "tensor(0.1483)\n",
            "tensor(0.1033)\n",
            "tensor(0.0740)\n",
            "tensor(0.0557)\n",
            "tensor(0.0423)\n",
            "tensor(0.0329)\n",
            "tensor(0.0256)\n",
            "tensor(0.0206)\n",
            "tensor(0.0167)\n"
          ],
          "name": "stdout"
        }
      ]
    },
    {
      "cell_type": "code",
      "metadata": {
        "id": "dItem0I-n3Xk",
        "colab_type": "code",
        "outputId": "9b6d10dc-886c-46b7-c5d1-8dd0accfaed0",
        "colab": {
          "base_uri": "https://localhost:8080/",
          "height": 363
        }
      },
      "source": [
        "# A Toy Dataset\n",
        "data = torch.tensor([[0,0],[0,1],[1,0],[1,1.]], requires_grad=True)\n",
        "target = torch.tensor([[0],[0],[1],[1.]], requires_grad=True)\n",
        "\n",
        "# A Toy Model\n",
        "#model = nn.Sequential(nn.Linear(2,3),nn.Linear(3,1))\n",
        "net1 = nn.Linear(2,3)\n",
        "net2 = nn.Linear(3,1)\n",
        "\n",
        "\n",
        "opt1 = optim.SGD(params=net1.parameters(),lr=0.1)\n",
        "opt2 = optim.SGD(params=net2.parameters(),lr=0.1)\n",
        "\n",
        "\n",
        "for iter in range(20):\n",
        "\n",
        "    # 1) erase previous gradients (if they exist)\n",
        "    opt1.zero_grad()\n",
        "    opt2.zero_grad()\n",
        "\n",
        "    # 2) make a prediction\n",
        "    out1 = net1(data)\n",
        "    #out1.register_hook(print)\n",
        "    pred = net2(out1)\n",
        "    #print(pred)\n",
        "    # 3) calculate how much we missed\n",
        "    loss = ((pred - target)**2).sum()\n",
        "\n",
        "    # 4) figure out which weights caused us to miss\n",
        "    loss.backward()\n",
        "\n",
        "\n",
        "    # 5) change those weights\n",
        "    opt1.step()\n",
        "    opt2.step()\n",
        "    # 6) print our progress\n",
        "    print(loss.data)\n",
        "        "
      ],
      "execution_count": 0,
      "outputs": [
        {
          "output_type": "stream",
          "text": [
            "tensor(6.3278)\n",
            "tensor(0.6669)\n",
            "tensor(0.3819)\n",
            "tensor(0.2574)\n",
            "tensor(0.1789)\n",
            "tensor(0.1241)\n",
            "tensor(0.0858)\n",
            "tensor(0.0592)\n",
            "tensor(0.0406)\n",
            "tensor(0.0278)\n",
            "tensor(0.0189)\n",
            "tensor(0.0128)\n",
            "tensor(0.0086)\n",
            "tensor(0.0058)\n",
            "tensor(0.0038)\n",
            "tensor(0.0026)\n",
            "tensor(0.0017)\n",
            "tensor(0.0011)\n",
            "tensor(0.0007)\n",
            "tensor(0.0005)\n"
          ],
          "name": "stdout"
        }
      ]
    },
    {
      "cell_type": "code",
      "metadata": {
        "id": "EBfFOrhfJwoR",
        "colab_type": "code",
        "outputId": "9be5a405-1f1a-4411-e5ae-345dd2df669d",
        "colab": {
          "base_uri": "https://localhost:8080/",
          "height": 35
        }
      },
      "source": [
        "x.grad.zero_()"
      ],
      "execution_count": 0,
      "outputs": [
        {
          "output_type": "execute_result",
          "data": {
            "text/plain": [
              "tensor([0., 0.])"
            ]
          },
          "metadata": {
            "tags": []
          },
          "execution_count": 206
        }
      ]
    },
    {
      "cell_type": "code",
      "metadata": {
        "id": "tMpLOC5IJwvf",
        "colab_type": "code",
        "colab": {}
      },
      "source": [
        "x = torch.tensor([3.,4.],requires_grad=True)"
      ],
      "execution_count": 0,
      "outputs": []
    },
    {
      "cell_type": "code",
      "metadata": {
        "id": "nc0ae9ACMHBY",
        "colab_type": "code",
        "colab": {}
      },
      "source": [
        "y = x**2\n"
      ],
      "execution_count": 0,
      "outputs": []
    },
    {
      "cell_type": "code",
      "metadata": {
        "id": "vu7Z9P7XMK0G",
        "colab_type": "code",
        "outputId": "e6bf12ad-2266-4a9e-f4ac-41cad261a212",
        "colab": {
          "base_uri": "https://localhost:8080/",
          "height": 35
        }
      },
      "source": [
        "y.register_hook(print)"
      ],
      "execution_count": 0,
      "outputs": [
        {
          "output_type": "execute_result",
          "data": {
            "text/plain": [
              "<torch.utils.hooks.RemovableHandle at 0x7f11e623ca20>"
            ]
          },
          "metadata": {
            "tags": []
          },
          "execution_count": 34
        }
      ]
    },
    {
      "cell_type": "code",
      "metadata": {
        "id": "lpV3bNwMSclH",
        "colab_type": "code",
        "colab": {}
      },
      "source": [
        "z = 3*y[0]+2*y[1]"
      ],
      "execution_count": 0,
      "outputs": []
    },
    {
      "cell_type": "code",
      "metadata": {
        "id": "jj1qiZkQMLW9",
        "colab_type": "code",
        "outputId": "aa0a8ba4-da4e-453c-84d0-7930629942a7",
        "colab": {
          "base_uri": "https://localhost:8080/",
          "height": 35
        }
      },
      "source": [
        "z.backward()"
      ],
      "execution_count": 0,
      "outputs": [
        {
          "output_type": "stream",
          "text": [
            "tensor([3., 2.])\n"
          ],
          "name": "stdout"
        }
      ]
    },
    {
      "cell_type": "code",
      "metadata": {
        "id": "aDi0NcRjMNY8",
        "colab_type": "code",
        "colab": {}
      },
      "source": [
        "z.grad"
      ],
      "execution_count": 0,
      "outputs": []
    },
    {
      "cell_type": "code",
      "metadata": {
        "id": "DDSQR8y6MTYf",
        "colab_type": "code",
        "colab": {}
      },
      "source": [
        "y.grad"
      ],
      "execution_count": 0,
      "outputs": []
    },
    {
      "cell_type": "code",
      "metadata": {
        "id": "05PxRStUMUwM",
        "colab_type": "code",
        "outputId": "dc18becc-c35f-4d4a-f7be-a5b7e370cecf",
        "colab": {
          "base_uri": "https://localhost:8080/",
          "height": 35
        }
      },
      "source": [
        "x.grad"
      ],
      "execution_count": 0,
      "outputs": [
        {
          "output_type": "execute_result",
          "data": {
            "text/plain": [
              "tensor([6., 8.])"
            ]
          },
          "metadata": {
            "tags": []
          },
          "execution_count": 203
        }
      ]
    },
    {
      "cell_type": "code",
      "metadata": {
        "id": "xJe7WirZMVh2",
        "colab_type": "code",
        "colab": {}
      },
      "source": [
        "y.backward(torch.ones(y.size()))"
      ],
      "execution_count": 0,
      "outputs": []
    },
    {
      "cell_type": "code",
      "metadata": {
        "id": "AMqbDspY63BC",
        "colab_type": "code",
        "colab": {}
      },
      "source": [
        ""
      ],
      "execution_count": 0,
      "outputs": []
    },
    {
      "cell_type": "code",
      "metadata": {
        "id": "2pQDRg61ATqY",
        "colab_type": "code",
        "colab": {}
      },
      "source": [
        ""
      ],
      "execution_count": 0,
      "outputs": []
    },
    {
      "cell_type": "code",
      "metadata": {
        "id": "A0tuS14nATwB",
        "colab_type": "code",
        "colab": {}
      },
      "source": [
        "a = torch.tensor([1.,1.],requires_grad=True)"
      ],
      "execution_count": 0,
      "outputs": []
    },
    {
      "cell_type": "code",
      "metadata": {
        "id": "dMeM69PwATma",
        "colab_type": "code",
        "colab": {}
      },
      "source": [
        "b = a**2"
      ],
      "execution_count": 0,
      "outputs": []
    },
    {
      "cell_type": "code",
      "metadata": {
        "id": "Z5n4H8k5AfYn",
        "colab_type": "code",
        "outputId": "49446c55-521a-49d5-ea74-1d5bcafb1b42",
        "colab": {
          "base_uri": "https://localhost:8080/",
          "height": 35
        }
      },
      "source": [
        "b.register_hook(print)"
      ],
      "execution_count": 0,
      "outputs": [
        {
          "output_type": "execute_result",
          "data": {
            "text/plain": [
              "<torch.utils.hooks.RemovableHandle at 0x7f11e6200ba8>"
            ]
          },
          "metadata": {
            "tags": []
          },
          "execution_count": 106
        }
      ]
    },
    {
      "cell_type": "code",
      "metadata": {
        "id": "D1nbP4K8AihV",
        "colab_type": "code",
        "colab": {}
      },
      "source": [
        "c = b[0] + 3*b[1]"
      ],
      "execution_count": 0,
      "outputs": []
    },
    {
      "cell_type": "code",
      "metadata": {
        "id": "3lBcq2QlAlic",
        "colab_type": "code",
        "outputId": "b3bb3b5c-99f1-445e-e876-2bc59f799385",
        "colab": {
          "base_uri": "https://localhost:8080/",
          "height": 35
        }
      },
      "source": [
        "c.backward()"
      ],
      "execution_count": 0,
      "outputs": [
        {
          "output_type": "stream",
          "text": [
            "tensor([1., 3.])\n"
          ],
          "name": "stdout"
        }
      ]
    },
    {
      "cell_type": "code",
      "metadata": {
        "id": "GCjIC4a0BBVK",
        "colab_type": "code",
        "outputId": "b17e2220-5290-41ff-e5f4-8442d9e71f98",
        "colab": {
          "base_uri": "https://localhost:8080/",
          "height": 35
        }
      },
      "source": [
        "a.grad"
      ],
      "execution_count": 0,
      "outputs": [
        {
          "output_type": "execute_result",
          "data": {
            "text/plain": [
              "tensor([2., 6.])"
            ]
          },
          "metadata": {
            "tags": []
          },
          "execution_count": 109
        }
      ]
    },
    {
      "cell_type": "code",
      "metadata": {
        "id": "z6C8uKEac-cf",
        "colab_type": "code",
        "colab": {}
      },
      "source": [
        "b.backward(torch.tensor([1., 3.]))"
      ],
      "execution_count": 0,
      "outputs": []
    },
    {
      "cell_type": "code",
      "metadata": {
        "id": "_iZyQInBhUUO",
        "colab_type": "code",
        "outputId": "11034261-5224-4194-9ea2-1cfe97f52e91",
        "colab": {
          "base_uri": "https://localhost:8080/",
          "height": 35
        }
      },
      "source": [
        "a.grad"
      ],
      "execution_count": 0,
      "outputs": [
        {
          "output_type": "execute_result",
          "data": {
            "text/plain": [
              "tensor([2., 6.])"
            ]
          },
          "metadata": {
            "tags": []
          },
          "execution_count": 113
        }
      ]
    },
    {
      "cell_type": "code",
      "metadata": {
        "id": "ytVXqU2RhVWA",
        "colab_type": "code",
        "colab": {}
      },
      "source": [
        "q = torch.tensor([1.,1.],requires_grad=True)"
      ],
      "execution_count": 0,
      "outputs": []
    },
    {
      "cell_type": "code",
      "metadata": {
        "id": "6ARSG3L_hgR4",
        "colab_type": "code",
        "colab": {}
      },
      "source": [
        "p = q**2"
      ],
      "execution_count": 0,
      "outputs": []
    },
    {
      "cell_type": "code",
      "metadata": {
        "id": "m6yLgVSFhjUo",
        "colab_type": "code",
        "colab": {}
      },
      "source": [
        "p.backward(torch.tensor([1.,3.]))"
      ],
      "execution_count": 0,
      "outputs": []
    },
    {
      "cell_type": "code",
      "metadata": {
        "id": "Wsl9ds0whp1E",
        "colab_type": "code",
        "outputId": "c9e832b2-f2bd-4b67-a3ca-049e6fbe3d6f",
        "colab": {
          "base_uri": "https://localhost:8080/",
          "height": 35
        }
      },
      "source": [
        "q.grad"
      ],
      "execution_count": 0,
      "outputs": [
        {
          "output_type": "execute_result",
          "data": {
            "text/plain": [
              "tensor([2., 6.])"
            ]
          },
          "metadata": {
            "tags": []
          },
          "execution_count": 117
        }
      ]
    },
    {
      "cell_type": "code",
      "metadata": {
        "id": "8WGisMwjkx-5",
        "colab_type": "code",
        "colab": {}
      },
      "source": [
        "x = torch.tensor([2.,2.])"
      ],
      "execution_count": 0,
      "outputs": []
    },
    {
      "cell_type": "code",
      "metadata": {
        "id": "lU25UlcCu0lD",
        "colab_type": "code",
        "colab": {}
      },
      "source": [
        "x = x.send(bob)"
      ],
      "execution_count": 0,
      "outputs": []
    },
    {
      "cell_type": "code",
      "metadata": {
        "id": "nzIQyXe6u9w_",
        "colab_type": "code",
        "colab": {}
      },
      "source": [
        "y = x**2"
      ],
      "execution_count": 0,
      "outputs": []
    },
    {
      "cell_type": "code",
      "metadata": {
        "id": "dk0be6lnvExV",
        "colab_type": "code",
        "colab": {}
      },
      "source": [
        "z = y.copy()"
      ],
      "execution_count": 0,
      "outputs": []
    },
    {
      "cell_type": "code",
      "metadata": {
        "id": "Pfgl0h1EvFYn",
        "colab_type": "code",
        "colab": {}
      },
      "source": [
        "tmp = y.get()"
      ],
      "execution_count": 0,
      "outputs": []
    },
    {
      "cell_type": "code",
      "metadata": {
        "id": "05GBzcInvKT8",
        "colab_type": "code",
        "outputId": "01ce8326-652b-4f70-99bd-3df7018261fd",
        "colab": {
          "base_uri": "https://localhost:8080/",
          "height": 35
        }
      },
      "source": [
        "y"
      ],
      "execution_count": 0,
      "outputs": [
        {
          "output_type": "execute_result",
          "data": {
            "text/plain": [
              "tensor([])"
            ]
          },
          "metadata": {
            "tags": []
          },
          "execution_count": 169
        }
      ]
    },
    {
      "cell_type": "code",
      "metadata": {
        "id": "eKrYtrsvvK16",
        "colab_type": "code",
        "outputId": "93af3752-bb07-47cd-9419-fcd182123a06",
        "colab": {
          "base_uri": "https://localhost:8080/",
          "height": 35
        }
      },
      "source": [
        "tmp"
      ],
      "execution_count": 0,
      "outputs": [
        {
          "output_type": "execute_result",
          "data": {
            "text/plain": [
              "tensor([4., 4.])"
            ]
          },
          "metadata": {
            "tags": []
          },
          "execution_count": 170
        }
      ]
    },
    {
      "cell_type": "code",
      "metadata": {
        "id": "II-1XejEvMEw",
        "colab_type": "code",
        "outputId": "dbaacdc3-b7e5-46a5-d910-c7abfef6bd09",
        "colab": {
          "base_uri": "https://localhost:8080/",
          "height": 35
        }
      },
      "source": [
        "x"
      ],
      "execution_count": 0,
      "outputs": [
        {
          "output_type": "execute_result",
          "data": {
            "text/plain": [
              "(Wrapper)>[PointerTensor | me:76251588823 -> bob:87570781890]"
            ]
          },
          "metadata": {
            "tags": []
          },
          "execution_count": 160
        }
      ]
    },
    {
      "cell_type": "code",
      "metadata": {
        "id": "4hsBLfc3vM-O",
        "colab_type": "code",
        "outputId": "d5d6e903-21bc-4e86-a4de-9b8aba92874e",
        "colab": {
          "base_uri": "https://localhost:8080/",
          "height": 35
        }
      },
      "source": [
        "z"
      ],
      "execution_count": 0,
      "outputs": [
        {
          "output_type": "execute_result",
          "data": {
            "text/plain": [
              "(Wrapper)>[PointerTensor | me:74590764005 -> bob:14538934924]"
            ]
          },
          "metadata": {
            "tags": []
          },
          "execution_count": 171
        }
      ]
    },
    {
      "cell_type": "code",
      "metadata": {
        "id": "rE-2eXpKvTK1",
        "colab_type": "code",
        "colab": {}
      },
      "source": [
        ""
      ],
      "execution_count": 0,
      "outputs": []
    },
    {
      "cell_type": "markdown",
      "metadata": {
        "id": "UJLjfr7EUSoJ",
        "colab_type": "text"
      },
      "source": [
        "# Split NN configuration B"
      ]
    },
    {
      "cell_type": "code",
      "metadata": {
        "colab_type": "code",
        "id": "kXIauklLUZrA",
        "colab": {}
      },
      "source": [
        "# A Toy Dataset\n",
        "data = torch.tensor([[0,0,0],[0,0,1],[1,1,0],[1,0,1.],[1,1,1],[1,0,0],[0,1,0],[0,1,1]], requires_grad=True)\n",
        "target = torch.tensor([[0],[0],[1],[1.],[1],[1],[0],[0]], requires_grad=True)\n",
        "\n",
        "# get pointers to training data on each worker by\n",
        "# sending some training data to bob and alice\n",
        "data_bob = data[0:4]\n",
        "target_bob = target[0:4]\n",
        "\n",
        "data_alice = data[4:]\n",
        "target_alice = target[4:]\n",
        "\n",
        "# Iniitalize A Toy Model\n",
        "model = nn.Sequential(\n",
        "    nn.Linear(3,2),\n",
        "    nn.ReLU(),\n",
        "    nn.Linear(2,1)\n",
        ")\n",
        "\n",
        "data_bob = data_bob.send(bob)\n",
        "data_alice = data_alice.send(alice)\n",
        "target_bob = target_bob.send(bob)\n",
        "target_alice = target_alice.send(alice)\n",
        "\n",
        "# organize pointers into a list\n",
        "datasets = [(data_bob,target_bob),(data_alice,target_alice)]\n",
        "\n",
        "opt = optim.SGD(params=model.parameters(),lr=0.1)"
      ],
      "execution_count": 0,
      "outputs": []
    },
    {
      "cell_type": "code",
      "metadata": {
        "colab_type": "code",
        "id": "ZHIURJ4aUZrE",
        "colab": {}
      },
      "source": [
        "def train():\n",
        "    # Training Logic\n",
        "    opt = optim.SGD(params=model.parameters(),lr=0.1)\n",
        "    for iter in range(10):\n",
        "        \n",
        "        # NEW) iterate through each worker's dataset\n",
        "        for data,target in datasets:\n",
        "            \n",
        "            # NEW) send model to correct worker\n",
        "            model.send(data.location)\n",
        "            print(model)\n",
        "            # 1) erase previous gradients (if they exist)\n",
        "            opt.zero_grad()\n",
        "\n",
        "            # 2) make a prediction\n",
        "            pred = model(data)\n",
        "            #pr = model(data).get() \n",
        "            #print(\"prediction:\",pr)\n",
        "            # 3) calculate how much we missed\n",
        "            loss = ((pred - target)**2).sum()\n",
        "\n",
        "            # 4) figure out which weights caused us to miss\n",
        "            loss.backward()\n",
        "\n",
        "            # 5) change those weights\n",
        "            opt.step()\n",
        "            \n",
        "            # NEW) get model (with gradients)\n",
        "            model.get()\n",
        "            \n",
        "            print(list(model.parameters())[1].grad)\n",
        "\n",
        "            # 6) print our progress\n",
        "            print(\"loss:\",loss.get()) # NEW) slight edit... need to call .get() on loss\\\n",
        "    \n",
        "# federated averaging"
      ],
      "execution_count": 0,
      "outputs": []
    },
    {
      "cell_type": "code",
      "metadata": {
        "colab_type": "code",
        "outputId": "f161a9e4-7975-4071-ccec-e73004e3923a",
        "id": "P4odMLfaUZrH",
        "colab": {
          "base_uri": "https://localhost:8080/",
          "height": 2435
        }
      },
      "source": [
        "train()"
      ],
      "execution_count": 0,
      "outputs": [
        {
          "output_type": "stream",
          "text": [
            "Sequential(\n",
            "  (0): Linear(in_features=3, out_features=2, bias=True)\n",
            "  (1): ReLU()\n",
            "  (2): Linear(in_features=2, out_features=1, bias=True)\n",
            ")\n",
            "tensor([4.0322, 1.2717])\n",
            "loss: tensor(3.9985, requires_grad=True)\n",
            "Sequential(\n",
            "  (0): Linear(in_features=3, out_features=2, bias=True)\n",
            "  (1): ReLU()\n",
            "  (2): Linear(in_features=2, out_features=1, bias=True)\n",
            ")\n",
            "tensor([-0.4976, -0.3512])\n",
            "loss: tensor(1.1500, requires_grad=True)\n",
            "Sequential(\n",
            "  (0): Linear(in_features=3, out_features=2, bias=True)\n",
            "  (1): ReLU()\n",
            "  (2): Linear(in_features=2, out_features=1, bias=True)\n",
            ")\n",
            "tensor([ 0.1877, -0.2439])\n",
            "loss: tensor(0.9486, requires_grad=True)\n",
            "Sequential(\n",
            "  (0): Linear(in_features=3, out_features=2, bias=True)\n",
            "  (1): ReLU()\n",
            "  (2): Linear(in_features=2, out_features=1, bias=True)\n",
            ")\n",
            "tensor([-0.3734, -0.1508])\n",
            "loss: tensor(0.8084, requires_grad=True)\n",
            "Sequential(\n",
            "  (0): Linear(in_features=3, out_features=2, bias=True)\n",
            "  (1): ReLU()\n",
            "  (2): Linear(in_features=2, out_features=1, bias=True)\n",
            ")\n",
            "tensor([-0.0019, -0.2647])\n",
            "loss: tensor(0.9000, requires_grad=True)\n",
            "Sequential(\n",
            "  (0): Linear(in_features=3, out_features=2, bias=True)\n",
            "  (1): ReLU()\n",
            "  (2): Linear(in_features=2, out_features=1, bias=True)\n",
            ")\n",
            "tensor([-0.1084, -0.1200])\n",
            "loss: tensor(0.7314, requires_grad=True)\n",
            "Sequential(\n",
            "  (0): Linear(in_features=3, out_features=2, bias=True)\n",
            "  (1): ReLU()\n",
            "  (2): Linear(in_features=2, out_features=1, bias=True)\n",
            ")\n",
            "tensor([-0.2652, -0.3529])\n",
            "loss: tensor(0.8419, requires_grad=True)\n",
            "Sequential(\n",
            "  (0): Linear(in_features=3, out_features=2, bias=True)\n",
            "  (1): ReLU()\n",
            "  (2): Linear(in_features=2, out_features=1, bias=True)\n",
            ")\n",
            "tensor([-0.0493, -0.0579])\n",
            "loss: tensor(0.6449, requires_grad=True)\n",
            "Sequential(\n",
            "  (0): Linear(in_features=3, out_features=2, bias=True)\n",
            "  (1): ReLU()\n",
            "  (2): Linear(in_features=2, out_features=1, bias=True)\n",
            ")\n",
            "tensor([-0.6839, -0.4596])\n",
            "loss: tensor(0.7619, requires_grad=True)\n",
            "Sequential(\n",
            "  (0): Linear(in_features=3, out_features=2, bias=True)\n",
            "  (1): ReLU()\n",
            "  (2): Linear(in_features=2, out_features=1, bias=True)\n",
            ")\n",
            "tensor([0.0560, 0.0699])\n",
            "loss: tensor(0.5478, requires_grad=True)\n",
            "Sequential(\n",
            "  (0): Linear(in_features=3, out_features=2, bias=True)\n",
            "  (1): ReLU()\n",
            "  (2): Linear(in_features=2, out_features=1, bias=True)\n",
            ")\n",
            "tensor([-0.7336, -0.5975])\n",
            "loss: tensor(0.6517, requires_grad=True)\n",
            "Sequential(\n",
            "  (0): Linear(in_features=3, out_features=2, bias=True)\n",
            "  (1): ReLU()\n",
            "  (2): Linear(in_features=2, out_features=1, bias=True)\n",
            ")\n",
            "tensor([0.1576, 0.2063])\n",
            "loss: tensor(0.4431, requires_grad=True)\n",
            "Sequential(\n",
            "  (0): Linear(in_features=3, out_features=2, bias=True)\n",
            "  (1): ReLU()\n",
            "  (2): Linear(in_features=2, out_features=1, bias=True)\n",
            ")\n",
            "tensor([-0.7660, -0.9925])\n",
            "loss: tensor(0.5596, requires_grad=True)\n",
            "Sequential(\n",
            "  (0): Linear(in_features=3, out_features=2, bias=True)\n",
            "  (1): ReLU()\n",
            "  (2): Linear(in_features=2, out_features=1, bias=True)\n",
            ")\n",
            "tensor([0.2997, 0.4070])\n",
            "loss: tensor(0.3678, requires_grad=True)\n",
            "Sequential(\n",
            "  (0): Linear(in_features=3, out_features=2, bias=True)\n",
            "  (1): ReLU()\n",
            "  (2): Linear(in_features=2, out_features=1, bias=True)\n",
            ")\n",
            "tensor([-0.7796, -1.0594])\n",
            "loss: tensor(0.4698, requires_grad=True)\n",
            "Sequential(\n",
            "  (0): Linear(in_features=3, out_features=2, bias=True)\n",
            "  (1): ReLU()\n",
            "  (2): Linear(in_features=2, out_features=1, bias=True)\n",
            ")\n",
            "tensor([0.2997, 0.4219])\n",
            "loss: tensor(0.2626, requires_grad=True)\n",
            "Sequential(\n",
            "  (0): Linear(in_features=3, out_features=2, bias=True)\n",
            "  (1): ReLU()\n",
            "  (2): Linear(in_features=2, out_features=1, bias=True)\n",
            ")\n",
            "tensor([-0.7100, -1.0018])\n",
            "loss: tensor(0.3429, requires_grad=True)\n",
            "Sequential(\n",
            "  (0): Linear(in_features=3, out_features=2, bias=True)\n",
            "  (1): ReLU()\n",
            "  (2): Linear(in_features=2, out_features=1, bias=True)\n",
            ")\n",
            "tensor([ 0.2623, -0.0585])\n",
            "loss: tensor(0.1739, requires_grad=True)\n",
            "Sequential(\n",
            "  (0): Linear(in_features=3, out_features=2, bias=True)\n",
            "  (1): ReLU()\n",
            "  (2): Linear(in_features=2, out_features=1, bias=True)\n",
            ")\n",
            "tensor([-0.4971, -0.4636])\n",
            "loss: tensor(0.1846, requires_grad=True)\n",
            "Sequential(\n",
            "  (0): Linear(in_features=3, out_features=2, bias=True)\n",
            "  (1): ReLU()\n",
            "  (2): Linear(in_features=2, out_features=1, bias=True)\n",
            ")\n",
            "tensor([ 0.1812, -0.0422])\n",
            "loss: tensor(0.0929, requires_grad=True)\n"
          ],
          "name": "stdout"
        }
      ]
    }
  ]
}